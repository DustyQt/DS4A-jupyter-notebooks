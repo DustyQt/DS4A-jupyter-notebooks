{
 "cells": [
  {
   "cell_type": "markdown",
   "metadata": {},
   "source": [
    "# Does a job training program improve the earnings of disadvantaged workers?"
   ]
  },
  {
   "cell_type": "code",
   "execution_count": 1,
   "metadata": {},
   "outputs": [],
   "source": [
    "# Silent warnings\n",
    "import warnings\n",
    "warnings.filterwarnings(\"ignore\")\n",
    "\n",
    "# Core\n",
    "import numpy as np\n",
    "import scipy\n",
    "import statsmodels.api as sm\n",
    "import statsmodels.formula.api as smf\n",
    "import pylab\n",
    "\n",
    "# Data\n",
    "import pandas as pd\n",
    "from sklearn import tree\n",
    "from sklearn import metrics\n",
    "from sklearn import neighbors\n",
    "from sklearn import ensemble\n",
    "\n",
    "\n",
    "# Visualisation\n",
    "import matplotlib.pyplot as plt\n",
    "import seaborn as sns\n",
    "\n",
    "%matplotlib inline\n",
    "sns.set_style('darkgrid')\n",
    "plt.style.use('ggplot')"
   ]
  },
  {
   "cell_type": "markdown",
   "metadata": {},
   "source": [
    "## Introduction"
   ]
  },
  {
   "cell_type": "markdown",
   "metadata": {},
   "source": [
    "**Business Context.** In the 1980s, Robert Lalonde conducted a study to evaluate the effects of training programs on labour workers. He observed the characteristic background data of the individuals involved. Several of them were selected for enrollment in the job training program (the National Supported Work Demonstration). The training program specifically targeted unemployed women, ex-drug addicts, ex-criminal offenders, and high school dropouts.\n",
    "\n",
    "<img src=\"data/trainingfailsmain.jpg\" width=\"550\" alt=\"Labour Training\">\n",
    "\n",
    "The Department of Labor is interested in digging deeper into this data and coming up with some actionable insights in order to raise the earnings of disadvantaged workers. They have contracted you as a data science consultant to assist them with this task.\n",
    "\n",
    "**Business Problem.** Your goal is to evaluate **whether the job training program *causes* the earnings of disadvantaged workers to go up**.\n",
    "\n",
    "**Analytical Context.** In this case we will continue our discussion of causal inference. We will study the importance of covariate balance and explore how to perform matching to get this balance. We will leverage a lot of the new classification models we have learned for this purpose."
   ]
  },
  {
   "cell_type": "markdown",
   "metadata": {},
   "source": [
    "## Examining the data\n",
    "\n",
    "The Lalonde dataset provides information on annual income for workers who enroll in the training workshop and those who did not enroll in the year subsequent to training. The outcome of interest is `re78` in which we want to know if there was an increase in earnings in 1978:\n",
    "\n",
    "1. **age**: age in years\n",
    "2. **educ**: years of schooling\n",
    "3. **black**: indicator variable for blacks\n",
    "4. **hisp**: indicator variable for Hispanics\n",
    "5. **married**: indicator variable for martial status\n",
    "6. **nodegr**: indicator variable for high school diploma\n",
    "7. **re74**: real earnings in 1974\n",
    "8. **re75**: real earnings in 1975\n",
    "9. **re78**: real earnings in 1978 - this is the outcome of interest\n",
    "10. **treat**: an indicator variable for treatment status"
   ]
  },
  {
   "cell_type": "code",
   "execution_count": 2,
   "metadata": {},
   "outputs": [
    {
     "data": {
      "text/html": [
       "<div>\n",
       "<style scoped>\n",
       "    .dataframe tbody tr th:only-of-type {\n",
       "        vertical-align: middle;\n",
       "    }\n",
       "\n",
       "    .dataframe tbody tr th {\n",
       "        vertical-align: top;\n",
       "    }\n",
       "\n",
       "    .dataframe thead th {\n",
       "        text-align: right;\n",
       "    }\n",
       "</style>\n",
       "<table border=\"1\" class=\"dataframe\">\n",
       "  <thead>\n",
       "    <tr style=\"text-align: right;\">\n",
       "      <th></th>\n",
       "      <th>treat</th>\n",
       "      <th>age</th>\n",
       "      <th>educ</th>\n",
       "      <th>black</th>\n",
       "      <th>hispan</th>\n",
       "      <th>married</th>\n",
       "      <th>nodegree</th>\n",
       "      <th>re74</th>\n",
       "      <th>re75</th>\n",
       "      <th>re78</th>\n",
       "    </tr>\n",
       "  </thead>\n",
       "  <tbody>\n",
       "    <tr>\n",
       "      <th>NSW1</th>\n",
       "      <td>1</td>\n",
       "      <td>37</td>\n",
       "      <td>11</td>\n",
       "      <td>1</td>\n",
       "      <td>0</td>\n",
       "      <td>1</td>\n",
       "      <td>1</td>\n",
       "      <td>0.0</td>\n",
       "      <td>0.0</td>\n",
       "      <td>9930.0460</td>\n",
       "    </tr>\n",
       "    <tr>\n",
       "      <th>NSW2</th>\n",
       "      <td>1</td>\n",
       "      <td>22</td>\n",
       "      <td>9</td>\n",
       "      <td>0</td>\n",
       "      <td>1</td>\n",
       "      <td>0</td>\n",
       "      <td>1</td>\n",
       "      <td>0.0</td>\n",
       "      <td>0.0</td>\n",
       "      <td>3595.8940</td>\n",
       "    </tr>\n",
       "    <tr>\n",
       "      <th>NSW3</th>\n",
       "      <td>1</td>\n",
       "      <td>30</td>\n",
       "      <td>12</td>\n",
       "      <td>1</td>\n",
       "      <td>0</td>\n",
       "      <td>0</td>\n",
       "      <td>0</td>\n",
       "      <td>0.0</td>\n",
       "      <td>0.0</td>\n",
       "      <td>24909.4500</td>\n",
       "    </tr>\n",
       "    <tr>\n",
       "      <th>NSW4</th>\n",
       "      <td>1</td>\n",
       "      <td>27</td>\n",
       "      <td>11</td>\n",
       "      <td>1</td>\n",
       "      <td>0</td>\n",
       "      <td>0</td>\n",
       "      <td>1</td>\n",
       "      <td>0.0</td>\n",
       "      <td>0.0</td>\n",
       "      <td>7506.1460</td>\n",
       "    </tr>\n",
       "    <tr>\n",
       "      <th>NSW5</th>\n",
       "      <td>1</td>\n",
       "      <td>33</td>\n",
       "      <td>8</td>\n",
       "      <td>1</td>\n",
       "      <td>0</td>\n",
       "      <td>0</td>\n",
       "      <td>1</td>\n",
       "      <td>0.0</td>\n",
       "      <td>0.0</td>\n",
       "      <td>289.7899</td>\n",
       "    </tr>\n",
       "  </tbody>\n",
       "</table>\n",
       "</div>"
      ],
      "text/plain": [
       "      treat  age  educ  black  hispan  married  nodegree  re74  re75  \\\n",
       "NSW1      1   37    11      1       0        1         1   0.0   0.0   \n",
       "NSW2      1   22     9      0       1        0         1   0.0   0.0   \n",
       "NSW3      1   30    12      1       0        0         0   0.0   0.0   \n",
       "NSW4      1   27    11      1       0        0         1   0.0   0.0   \n",
       "NSW5      1   33     8      1       0        0         1   0.0   0.0   \n",
       "\n",
       "            re78  \n",
       "NSW1   9930.0460  \n",
       "NSW2   3595.8940  \n",
       "NSW3  24909.4500  \n",
       "NSW4   7506.1460  \n",
       "NSW5    289.7899  "
      ]
     },
     "execution_count": 2,
     "metadata": {},
     "output_type": "execute_result"
    }
   ],
   "source": [
    "lalonde_df = pd.read_csv('lalonde.csv', index_col=0)\n",
    "lalonde_df.head()"
   ]
  },
  {
   "cell_type": "markdown",
   "metadata": {
    "tags": [
     "20_min"
    ]
   },
   "source": [
    "### Exercise 1:\n",
    "\n",
    "#### 1.1\n",
    "\n",
    "Provide summary statistics for all the variables in the dataset. What can you say about the average income of the population throughout the years? What percentage of the population saw a decrease in income from 1974 to 1975? What do you think happened in 1975?"
   ]
  },
  {
   "cell_type": "markdown",
   "metadata": {
    "tags": [
     "ans_st"
    ]
   },
   "source": [
    "**Answer.**"
   ]
  },
  {
   "cell_type": "code",
   "execution_count": 3,
   "metadata": {},
   "outputs": [
    {
     "data": {
      "text/html": [
       "<div>\n",
       "<style scoped>\n",
       "    .dataframe tbody tr th:only-of-type {\n",
       "        vertical-align: middle;\n",
       "    }\n",
       "\n",
       "    .dataframe tbody tr th {\n",
       "        vertical-align: top;\n",
       "    }\n",
       "\n",
       "    .dataframe thead th {\n",
       "        text-align: right;\n",
       "    }\n",
       "</style>\n",
       "<table border=\"1\" class=\"dataframe\">\n",
       "  <thead>\n",
       "    <tr style=\"text-align: right;\">\n",
       "      <th></th>\n",
       "      <th>treat</th>\n",
       "      <th>age</th>\n",
       "      <th>educ</th>\n",
       "      <th>black</th>\n",
       "      <th>hispan</th>\n",
       "      <th>married</th>\n",
       "      <th>nodegree</th>\n",
       "      <th>re74</th>\n",
       "      <th>re75</th>\n",
       "      <th>re78</th>\n",
       "    </tr>\n",
       "  </thead>\n",
       "  <tbody>\n",
       "    <tr>\n",
       "      <th>count</th>\n",
       "      <td>614.000000</td>\n",
       "      <td>614.000000</td>\n",
       "      <td>614.000000</td>\n",
       "      <td>614.000000</td>\n",
       "      <td>614.000000</td>\n",
       "      <td>614.000000</td>\n",
       "      <td>614.000000</td>\n",
       "      <td>614.000000</td>\n",
       "      <td>614.000000</td>\n",
       "      <td>614.000000</td>\n",
       "    </tr>\n",
       "    <tr>\n",
       "      <th>mean</th>\n",
       "      <td>0.301303</td>\n",
       "      <td>27.363192</td>\n",
       "      <td>10.268730</td>\n",
       "      <td>0.395765</td>\n",
       "      <td>0.117264</td>\n",
       "      <td>0.415309</td>\n",
       "      <td>0.630293</td>\n",
       "      <td>4557.546569</td>\n",
       "      <td>2184.938207</td>\n",
       "      <td>6792.834483</td>\n",
       "    </tr>\n",
       "    <tr>\n",
       "      <th>std</th>\n",
       "      <td>0.459198</td>\n",
       "      <td>9.881187</td>\n",
       "      <td>2.628325</td>\n",
       "      <td>0.489413</td>\n",
       "      <td>0.321997</td>\n",
       "      <td>0.493177</td>\n",
       "      <td>0.483119</td>\n",
       "      <td>6477.964479</td>\n",
       "      <td>3295.679043</td>\n",
       "      <td>7470.730792</td>\n",
       "    </tr>\n",
       "    <tr>\n",
       "      <th>min</th>\n",
       "      <td>0.000000</td>\n",
       "      <td>16.000000</td>\n",
       "      <td>0.000000</td>\n",
       "      <td>0.000000</td>\n",
       "      <td>0.000000</td>\n",
       "      <td>0.000000</td>\n",
       "      <td>0.000000</td>\n",
       "      <td>0.000000</td>\n",
       "      <td>0.000000</td>\n",
       "      <td>0.000000</td>\n",
       "    </tr>\n",
       "    <tr>\n",
       "      <th>25%</th>\n",
       "      <td>0.000000</td>\n",
       "      <td>20.000000</td>\n",
       "      <td>9.000000</td>\n",
       "      <td>0.000000</td>\n",
       "      <td>0.000000</td>\n",
       "      <td>0.000000</td>\n",
       "      <td>0.000000</td>\n",
       "      <td>0.000000</td>\n",
       "      <td>0.000000</td>\n",
       "      <td>238.283425</td>\n",
       "    </tr>\n",
       "    <tr>\n",
       "      <th>50%</th>\n",
       "      <td>0.000000</td>\n",
       "      <td>25.000000</td>\n",
       "      <td>11.000000</td>\n",
       "      <td>0.000000</td>\n",
       "      <td>0.000000</td>\n",
       "      <td>0.000000</td>\n",
       "      <td>1.000000</td>\n",
       "      <td>1042.330000</td>\n",
       "      <td>601.548400</td>\n",
       "      <td>4759.018500</td>\n",
       "    </tr>\n",
       "    <tr>\n",
       "      <th>75%</th>\n",
       "      <td>1.000000</td>\n",
       "      <td>32.000000</td>\n",
       "      <td>12.000000</td>\n",
       "      <td>1.000000</td>\n",
       "      <td>0.000000</td>\n",
       "      <td>1.000000</td>\n",
       "      <td>1.000000</td>\n",
       "      <td>7888.498250</td>\n",
       "      <td>3248.987500</td>\n",
       "      <td>10893.592500</td>\n",
       "    </tr>\n",
       "    <tr>\n",
       "      <th>max</th>\n",
       "      <td>1.000000</td>\n",
       "      <td>55.000000</td>\n",
       "      <td>18.000000</td>\n",
       "      <td>1.000000</td>\n",
       "      <td>1.000000</td>\n",
       "      <td>1.000000</td>\n",
       "      <td>1.000000</td>\n",
       "      <td>35040.070000</td>\n",
       "      <td>25142.240000</td>\n",
       "      <td>60307.930000</td>\n",
       "    </tr>\n",
       "  </tbody>\n",
       "</table>\n",
       "</div>"
      ],
      "text/plain": [
       "            treat         age        educ       black      hispan     married  \\\n",
       "count  614.000000  614.000000  614.000000  614.000000  614.000000  614.000000   \n",
       "mean     0.301303   27.363192   10.268730    0.395765    0.117264    0.415309   \n",
       "std      0.459198    9.881187    2.628325    0.489413    0.321997    0.493177   \n",
       "min      0.000000   16.000000    0.000000    0.000000    0.000000    0.000000   \n",
       "25%      0.000000   20.000000    9.000000    0.000000    0.000000    0.000000   \n",
       "50%      0.000000   25.000000   11.000000    0.000000    0.000000    0.000000   \n",
       "75%      1.000000   32.000000   12.000000    1.000000    0.000000    1.000000   \n",
       "max      1.000000   55.000000   18.000000    1.000000    1.000000    1.000000   \n",
       "\n",
       "         nodegree          re74          re75          re78  \n",
       "count  614.000000    614.000000    614.000000    614.000000  \n",
       "mean     0.630293   4557.546569   2184.938207   6792.834483  \n",
       "std      0.483119   6477.964479   3295.679043   7470.730792  \n",
       "min      0.000000      0.000000      0.000000      0.000000  \n",
       "25%      0.000000      0.000000      0.000000    238.283425  \n",
       "50%      1.000000   1042.330000    601.548400   4759.018500  \n",
       "75%      1.000000   7888.498250   3248.987500  10893.592500  \n",
       "max      1.000000  35040.070000  25142.240000  60307.930000  "
      ]
     },
     "execution_count": 3,
     "metadata": {},
     "output_type": "execute_result"
    }
   ],
   "source": [
    "lalonde_df.describe(include='all')"
   ]
  },
  {
   "cell_type": "markdown",
   "metadata": {},
   "source": [
    "#### 1.2 \n",
    "    \n",
    "What percentage of the workers in our dataset are in the treatment group? Find the difference in means and medians of earnings between the control group and the treatment group. Is the difference of means statistically significant?\n",
    "\n",
    "**Note:** Remember that the *treatment and control groups* correspond to the sets of workers that were enrolled and not enrolled in the job training program, respectively. We can check if a worker is part of the treatment group by simply checking the value of the  `treat` column."
   ]
  },
  {
   "cell_type": "markdown",
   "metadata": {
    "tags": [
     "ans_st"
    ]
   },
   "source": [
    "**Answer.**"
   ]
  },
  {
   "cell_type": "code",
   "execution_count": 4,
   "metadata": {},
   "outputs": [
    {
     "data": {
      "text/plain": [
       "Ttest_indResult(statistic=0.9663522254463778, pvalue=0.3342496685909654)"
      ]
     },
     "execution_count": 4,
     "metadata": {},
     "output_type": "execute_result"
    }
   ],
   "source": [
    "control_df = lalonde_df[lalonde_df['treat']==0]\n",
    "treatment_df = lalonde_df[lalonde_df['treat']==1]\n",
    "\n",
    "scipy.stats.ttest_ind(control_df['re78'], treatment_df['re78'])"
   ]
  },
  {
   "cell_type": "markdown",
   "metadata": {},
   "source": [
    "we reject the hypotesis that they are not independent beacuse p value is near 0.33 which is much arger tahn 0.05"
   ]
  },
  {
   "cell_type": "markdown",
   "metadata": {},
   "source": [
    "#### 1.3\n",
    "\n",
    "Does your previous result mean that the treatment had a negative impact? Why or why not?"
   ]
  },
  {
   "cell_type": "markdown",
   "metadata": {
    "tags": [
     "ans_st"
    ]
   },
   "source": [
    "**Answer.**"
   ]
  },
  {
   "cell_type": "markdown",
   "metadata": {},
   "source": [
    "It doesn't mean that had a negatve impact, just means there was an impact"
   ]
  },
  {
   "cell_type": "markdown",
   "metadata": {},
   "source": [
    "Before we start our exploration on causality, let's perform some simple setup:\n",
    "\n",
    "1. We seperate the `treat` (treatment) indicator from our dataset. We will want to use this as our objective variable to fit models to later\n",
    "2. We are interested in knowing the treatment effect on `re78` (revenue/earnings in 1978)"
   ]
  },
  {
   "cell_type": "code",
   "execution_count": 5,
   "metadata": {},
   "outputs": [],
   "source": [
    "#First, let's reset the indexes\n",
    "cleaned_df=lalonde_df.reset_index().drop(['index'],axis=1)\n",
    "\n",
    "#Create seperate structure for data and target \n",
    "treatment = cleaned_df['treat']\n",
    "rev78 = cleaned_df['re78']\n",
    "cleaned_df = cleaned_df.drop(['treat', 're78'], axis=1)"
   ]
  },
  {
   "cell_type": "markdown",
   "metadata": {},
   "source": [
    "## Assessing balance between the control group and the treatment group\n",
    "\n",
    "Suppose we want to assess whether balance has been achieved for a particular feature $x = age$. That is, we would like to check whether the treatment and control groups have similar distributions of ages. We can look at **Standardized Mean Differences (SMD)**, which is calculated as follows: let $(\\bar{x}_t,s_t^2)$ and $(\\bar{x}_c, s_c^2)$ denote the mean and variance corresponding to the treatment and control groups of the particular feature of interest. Then, the SMD is defined as the value:\n",
    "\n",
    "$$\\mathrm{SMD}(x)=\\frac{\\bar{x}_{t}-{\\bar{x}_{c}}}{\\sqrt{\\frac{s^{2}_{t} + s^{2}_{c}}{2}}}.$$\n",
    "\n",
    "We can calculate the SMD for every feature. If our calculated SMD is 1, then that means there is a 1 standard deviation difference in means. The benefit of having standard deviation in the denominator is that this number becomes insensitive to the scale of the feature. \n",
    "\n",
    "After computing this measurement for all of our features, there is a rule of thumb that is commonly used to determine whether that feature is balanced or not (similar to the idea of using 0.05 as a threshold for $p$ - values):\n",
    "\n",
    "1. **SMD < 0.1**: We say that the feature is balanced. In general, for a **randomized trial**, the SMD for all of the covariates should typically fall into this bucket.\n",
    "2. **SMD is between 0.1 and 0.2**:  Not necessarily balanced, but small enough that people are usually not too worried about them. Sometimes, even after performing matching, there might still be a few covariates whose SMD falls in this range.\n",
    "3. **SMD > 0.2**: Values that are greater than this threshold are considered seriously imbalanced."
   ]
  },
  {
   "cell_type": "markdown",
   "metadata": {
    "tags": [
     "20_min"
    ]
   },
   "source": [
    "### Exercise 2:\n",
    "\n",
    "#### 2.1\n",
    "\n",
    "Assess covariate balance between the treatment and control groups. What features (covariates) are imbalanced between the control group and the treatment group in this dataset?"
   ]
  },
  {
   "cell_type": "markdown",
   "metadata": {
    "tags": [
     "ans_st"
    ]
   },
   "source": [
    "**Answer.**"
   ]
  },
  {
   "cell_type": "code",
   "execution_count": 6,
   "metadata": {},
   "outputs": [
    {
     "name": "stdout",
     "output_type": "stream",
     "text": [
      "treat            inf\n",
      "age        -0.013215\n",
      "educ        0.009062\n",
      "black       2.171366\n",
      "hispan     -0.463520\n",
      "married    -0.799781\n",
      "nodegree    0.248033\n",
      "re74       -0.000050\n",
      "re75       -0.000044\n",
      "re78       -0.000006\n",
      "dtype: float64\n"
     ]
    }
   ],
   "source": [
    "def SMD(df=None,treatment_column=None):\n",
    "    group1= df[df[treatment_column]==1]\n",
    "    group2=df[df[treatment_column]==0]\n",
    "    sd1=group1.std()\n",
    "    sd2=group2.std()\n",
    "    mu1=group1.mean()\n",
    "    mu2=group2.mean()\n",
    "    SMD=pd.Series()\n",
    "    for column in df.columns:\n",
    "        SMD[column]=(mu1[column]-mu2[column])/((sd1[column]**2 + sd2[column]**2)/2)**1/2\n",
    "    return SMD\n",
    "\n",
    "print(SMD(df=lalonde_df,treatment_column='treat'))"
   ]
  },
  {
   "cell_type": "markdown",
   "metadata": {},
   "source": [
    "Age and education are balanced\n",
    "\n",
    "black, hispan, nodegree and married are unbalanced"
   ]
  },
  {
   "cell_type": "markdown",
   "metadata": {},
   "source": [
    "#### 2.2\n",
    "\n",
    "Make plots which show the histograms for both the treatment and control groups of the imbalanced covariates."
   ]
  },
  {
   "cell_type": "markdown",
   "metadata": {
    "tags": [
     "ans_st"
    ]
   },
   "source": [
    "**Answer.**"
   ]
  },
  {
   "cell_type": "code",
   "execution_count": 7,
   "metadata": {},
   "outputs": [
    {
     "data": {
      "image/png": "[encoded data removed]",
      "text/plain": [
       "<Figure size 432x288 with 1 Axes>"
      ]
     },
     "metadata": {},
     "output_type": "display_data"
    },
    {
     "data": {
      "image/png": "[encoded data removed]",
      "text/plain": [
       "<Figure size 432x288 with 1 Axes>"
      ]
     },
     "metadata": {},
     "output_type": "display_data"
    },
    {
     "data": {
      "image/png": "[encoded data removed]",
      "text/plain": [
       "<Figure size 432x288 with 1 Axes>"
      ]
     },
     "metadata": {},
     "output_type": "display_data"
    }
   ],
   "source": [
    "umbalanced=['black','hispan','nodegree']\n",
    "for column in umbalanced:\n",
    "    sns.histplot(data=lalonde_df,x=column,hue=\"treat\")\n",
    "    plt.show()"
   ]
  },
  {
   "cell_type": "markdown",
   "metadata": {},
   "source": [
    "as we can see nonedegree is somewhat umbalanced but not as hard as hispan and blakc, this weas expectd because nonedegree's SMD is close to 0.2 "
   ]
  },
  {
   "cell_type": "markdown",
   "metadata": {},
   "source": [
    "## Propensity score matching using logistic regression "
   ]
  },
  {
   "cell_type": "markdown",
   "metadata": {},
   "source": [
    "In order to balance the covariates of the control and treatment groups, we will use **matching**. Remember that we used matching in Case 7.5 to balance a population of prisoners to evaluate the effectiveness of a program aiming to reduce recidivism. Thus, the situation here is quite similar.\n",
    "    \n",
    "In Case 7.5 we used the *Euclidean distance* on the sample data to create the matching: for each individual of the treatment group, we would find the closest (in Euclidean distance) individual in the control group to match on. Although this method is attractive in general, we may have instances in which the balancing of some particular feature is more important than others. Say the employment program was aiming to create a positive impact within the Hispanic community and a higher proportion of individuals in the treatment group were Hispanic. The Euclidean distance would not take this into account, and we may end up comparing the effect of the treatment between Hispanics and other ethnicities.\n",
    "\n",
    "We can alleviate this issue by using a metric that takes into account the characteristics of the treatment group. In this context, a metric called the **propensity score** helps us do the matching on select features in an efficient way. The key idea is that *the features that are correlated with the probability of a worker being selected into the treatment group affect our causal results*. A propensity score is this probability. The propensity score for subject $i$, denoted as $\\pi_i$ is defined as:\n",
    "\n",
    "$\\pi_i$ = P(Subject $i$ is given training given their features $X_i$)\n",
    " \n",
    "As an example, if a person had a propensity score of 0.3, that would mean that given their particular covariates, there was a 30% chance that they were placed in the treatment group. We can calculate this score by fitting a classification model to our data, where the input features are our covariates, and the output is whether that person was part of the treatment group or not."
   ]
  },
  {
   "cell_type": "markdown",
   "metadata": {
    "tags": [
     "20_min"
    ]
   },
   "source": [
    "### Exercise 3:\n",
    "\n",
    "#### 3.1 \n",
    "\n",
    "Estimate the propensity scores using a logistic regression. Build a logistic regression model where the outcome variable is whether a subject was in the treatment group or not, and the covariates are all the other variables except `re78`. How would you interpret the predicted values output by the model? "
   ]
  },
  {
   "cell_type": "markdown",
   "metadata": {
    "tags": [
     "ans_st"
    ]
   },
   "source": [
    "**Answer.**"
   ]
  },
  {
   "cell_type": "code",
   "execution_count": 8,
   "metadata": {},
   "outputs": [
    {
     "name": "stdout",
     "output_type": "stream",
     "text": [
      "Optimization terminated successfully.\n",
      "         Current function value: 0.416081\n",
      "         Iterations 7\n"
     ]
    },
    {
     "data": {
      "text/html": [
       "<table class=\"simpletable\">\n",
       "<caption>Logit Regression Results</caption>\n",
       "<tr>\n",
       "  <th>Dep. Variable:</th>         <td>treat</td>      <th>  No. Observations:  </th>  <td>   614</td>  \n",
       "</tr>\n",
       "<tr>\n",
       "  <th>Model:</th>                 <td>Logit</td>      <th>  Df Residuals:      </th>  <td>   606</td>  \n",
       "</tr>\n",
       "<tr>\n",
       "  <th>Method:</th>                 <td>MLE</td>       <th>  Df Model:          </th>  <td>     7</td>  \n",
       "</tr>\n",
       "<tr>\n",
       "  <th>Date:</th>            <td>Thu, 12 Aug 2021</td> <th>  Pseudo R-squ.:     </th>  <td>0.3201</td>  \n",
       "</tr>\n",
       "<tr>\n",
       "  <th>Time:</th>                <td>17:44:39</td>     <th>  Log-Likelihood:    </th> <td> -255.47</td> \n",
       "</tr>\n",
       "<tr>\n",
       "  <th>converged:</th>             <td>True</td>       <th>  LL-Null:           </th> <td> -375.75</td> \n",
       "</tr>\n",
       "<tr>\n",
       "  <th>Covariance Type:</th>     <td>nonrobust</td>    <th>  LLR p-value:       </th> <td>2.846e-48</td>\n",
       "</tr>\n",
       "</table>\n",
       "<table class=\"simpletable\">\n",
       "<tr>\n",
       "      <td></td>        <th>coef</th>     <th>std err</th>      <th>z</th>      <th>P>|z|</th>  <th>[0.025</th>    <th>0.975]</th>  \n",
       "</tr>\n",
       "<tr>\n",
       "  <th>age</th>      <td>   -0.0169</td> <td>    0.012</td> <td>   -1.445</td> <td> 0.149</td> <td>   -0.040</td> <td>    0.006</td>\n",
       "</tr>\n",
       "<tr>\n",
       "  <th>educ</th>     <td>   -0.1139</td> <td>    0.027</td> <td>   -4.207</td> <td> 0.000</td> <td>   -0.167</td> <td>   -0.061</td>\n",
       "</tr>\n",
       "<tr>\n",
       "  <th>black</th>    <td>    2.8090</td> <td>    0.264</td> <td>   10.622</td> <td> 0.000</td> <td>    2.291</td> <td>    3.327</td>\n",
       "</tr>\n",
       "<tr>\n",
       "  <th>hispan</th>   <td>    0.4986</td> <td>    0.397</td> <td>    1.257</td> <td> 0.209</td> <td>   -0.279</td> <td>    1.276</td>\n",
       "</tr>\n",
       "<tr>\n",
       "  <th>married</th>  <td>   -0.8369</td> <td>    0.282</td> <td>   -2.970</td> <td> 0.003</td> <td>   -1.389</td> <td>   -0.285</td>\n",
       "</tr>\n",
       "<tr>\n",
       "  <th>nodegree</th> <td>   -0.4511</td> <td>    0.227</td> <td>   -1.988</td> <td> 0.047</td> <td>   -0.896</td> <td>   -0.006</td>\n",
       "</tr>\n",
       "<tr>\n",
       "  <th>re74</th>     <td>-6.812e-05</td> <td> 2.89e-05</td> <td>   -2.360</td> <td> 0.018</td> <td>   -0.000</td> <td>-1.15e-05</td>\n",
       "</tr>\n",
       "<tr>\n",
       "  <th>re75</th>     <td> 4.897e-05</td> <td> 4.49e-05</td> <td>    1.090</td> <td> 0.276</td> <td>-3.91e-05</td> <td>    0.000</td>\n",
       "</tr>\n",
       "</table>"
      ],
      "text/plain": [
       "<class 'statsmodels.iolib.summary.Summary'>\n",
       "\"\"\"\n",
       "                           Logit Regression Results                           \n",
       "==============================================================================\n",
       "Dep. Variable:                  treat   No. Observations:                  614\n",
       "Model:                          Logit   Df Residuals:                      606\n",
       "Method:                           MLE   Df Model:                            7\n",
       "Date:                Thu, 12 Aug 2021   Pseudo R-squ.:                  0.3201\n",
       "Time:                        17:44:39   Log-Likelihood:                -255.47\n",
       "converged:                       True   LL-Null:                       -375.75\n",
       "Covariance Type:            nonrobust   LLR p-value:                 2.846e-48\n",
       "==============================================================================\n",
       "                 coef    std err          z      P>|z|      [0.025      0.975]\n",
       "------------------------------------------------------------------------------\n",
       "age           -0.0169      0.012     -1.445      0.149      -0.040       0.006\n",
       "educ          -0.1139      0.027     -4.207      0.000      -0.167      -0.061\n",
       "black          2.8090      0.264     10.622      0.000       2.291       3.327\n",
       "hispan         0.4986      0.397      1.257      0.209      -0.279       1.276\n",
       "married       -0.8369      0.282     -2.970      0.003      -1.389      -0.285\n",
       "nodegree      -0.4511      0.227     -1.988      0.047      -0.896      -0.006\n",
       "re74       -6.812e-05   2.89e-05     -2.360      0.018      -0.000   -1.15e-05\n",
       "re75        4.897e-05   4.49e-05      1.090      0.276   -3.91e-05       0.000\n",
       "==============================================================================\n",
       "\"\"\""
      ]
     },
     "execution_count": 8,
     "metadata": {},
     "output_type": "execute_result"
    }
   ],
   "source": [
    "logit_full1 = sm.Logit(treatment, cleaned_df)\n",
    "logit_full1_res = logit_full1.fit()\n",
    "logit_full1_res.summary()"
   ]
  },
  {
   "cell_type": "markdown",
   "metadata": {},
   "source": [
    "black, hispan, married and nodegree aaffct the predicted output hwhere as age and education affect the less"
   ]
  },
  {
   "cell_type": "markdown",
   "metadata": {},
   "source": [
    "#### 3.2\n",
    "\n",
    "Use `.predict()`  to obtain the propensity scores of individuals in our dataset. Save the the results with the name `pscore_logit` (these will be used later). In addition, make plots which show the distribution for both the treatment and control groups of propensity scores."
   ]
  },
  {
   "cell_type": "markdown",
   "metadata": {
    "tags": [
     "ans_st"
    ]
   },
   "source": [
    "**Answer.**"
   ]
  },
  {
   "cell_type": "code",
   "execution_count": 9,
   "metadata": {},
   "outputs": [
    {
     "name": "stdout",
     "output_type": "stream",
     "text": [
      "[0.41159325 0.20593225 0.71809075 0.65666816 0.70864993 0.7232847\n",
      " 0.74140954 0.63737378 0.64897523 0.059437   0.73331602 0.72575474\n",
      " 0.75810704 0.48139108 0.78128084 0.71045504 0.70511845 0.69635427\n",
      " 0.6826583  0.73157122 0.67174312 0.09214477 0.10730362 0.66800594\n",
      " 0.71391902 0.44468077 0.66424748 0.17537002 0.71735804 0.66800594\n",
      " 0.71735804 0.74857229 0.4614297  0.75100999 0.73487685 0.62348846\n",
      " 0.79669822 0.55389945 0.45816634 0.69276913 0.7478365  0.14215655\n",
      " 0.76119256 0.11868159 0.68282354 0.4614297  0.76119256 0.73987356\n",
      " 0.79669822 0.74140954 0.7257835  0.4363508  0.69009795 0.73487685\n",
      " 0.4405116  0.71735804 0.66980884 0.59204852 0.41763557 0.11144889\n",
      " 0.76119256 0.72240732 0.65185483 0.65666816 0.80409753 0.70253873\n",
      " 0.65666816 0.16283875 0.54758674 0.69804234 0.70605823 0.63429814\n",
      " 0.79740664 0.73487685 0.65182204 0.10652633 0.7446363  0.72665425\n",
      " 0.60558405 0.67545867 0.73487685 0.75727646 0.11824133 0.70511845\n",
      " 0.72913402 0.61362756 0.22224974 0.6604681  0.15162679 0.73575733\n",
      " 0.4363508  0.71735804 0.66424748 0.7478365  0.58932825 0.14313445\n",
      " 0.7366079  0.67529142 0.68916056 0.18216951 0.69276913 0.68552885\n",
      " 0.66424748 0.69009795 0.68647221 0.6470103  0.70511845 0.73987356\n",
      " 0.64514887 0.45122847 0.6411133  0.2155472  0.73975805 0.67975003\n",
      " 0.47880144 0.12394573 0.70208314 0.75445107 0.71432033 0.66880362\n",
      " 0.68077951 0.72184137 0.74089617 0.03320432 0.0985052  0.52128793\n",
      " 0.67572697 0.50974418 0.13684748 0.64078848 0.72904182 0.66695787\n",
      " 0.47420153 0.43240232 0.47196453 0.70928038 0.07556731 0.70179579\n",
      " 0.57436135 0.11561639 0.60240737 0.5386216  0.65524438 0.6411974\n",
      " 0.14641084 0.68020832 0.7782565  0.65219719 0.49084997 0.66278366\n",
      " 0.70773135 0.55920778 0.74832133 0.68462816 0.48393497 0.55350094\n",
      " 0.76663036 0.69196538 0.70433724 0.76945194 0.73092614 0.73009921\n",
      " 0.34949749 0.71990653 0.62873572 0.16101295 0.07830686 0.5863531\n",
      " 0.54578746 0.69469766 0.75530819 0.4692198  0.13431969 0.71369566\n",
      " 0.34197982 0.69776378 0.14614816 0.71755048 0.14365899 0.2407983\n",
      " 0.31041499 0.13388186 0.4145823  0.49075637 0.4856808  0.03969068\n",
      " 0.02838847 0.01640409 0.01735434 0.43479755 0.39242542 0.03151571\n",
      " 0.76985034 0.04679806 0.02558779 0.06309266 0.02649477 0.05935195\n",
      " 0.04092786 0.62206151 0.23964851 0.22205587 0.04587772 0.06105144\n",
      " 0.03818956 0.04699503 0.117278   0.01589377 0.40177571 0.01465136\n",
      " 0.08817335 0.35400403 0.06765654 0.04676523 0.0447415  0.19711471\n",
      " 0.03239584 0.0423499  0.01609827 0.08072471 0.0492726  0.03806411\n",
      " 0.04582739 0.0429615  0.12350819 0.48290624 0.07867374 0.04499501\n",
      " 0.0417846  0.05520383 0.49044076 0.05658215 0.62303528 0.03239087\n",
      " 0.07933906 0.09825417 0.02351331 0.00920508 0.01315641 0.03967328\n",
      " 0.04729143 0.03502257 0.01739781 0.38920719 0.06975008 0.04274853\n",
      " 0.05860607 0.18674958 0.02473316 0.06003717 0.22590838 0.03703071\n",
      " 0.04129073 0.35955218 0.0342794  0.0168913  0.10488795 0.0429023\n",
      " 0.05258467 0.03376587 0.16792607 0.07431842 0.02560605 0.11041731\n",
      " 0.06948277 0.04087026 0.07653705 0.03771696 0.16218856 0.01978429\n",
      " 0.11143489 0.02719024 0.11477127 0.15505299 0.06045781 0.08935142\n",
      " 0.03587561 0.05103251 0.24901778 0.11218111 0.29799662 0.45654865\n",
      " 0.5734547  0.50951211 0.05518417 0.06794517 0.16561223 0.10165591\n",
      " 0.00845556 0.15240939 0.05120671 0.06126633 0.03172266 0.03977029\n",
      " 0.72005779 0.08449964 0.10651381 0.05736158 0.07191681 0.04299335\n",
      " 0.02943485 0.03231554 0.71853339 0.05115071 0.02326155 0.05280072\n",
      " 0.17120573 0.01941621 0.13819131 0.00827934 0.05855865 0.13581936\n",
      " 0.05370275 0.04878267 0.01406153 0.1765987  0.02322922 0.01283697\n",
      " 0.63443301 0.05567862 0.16886553 0.10605726 0.04997553 0.14826769\n",
      " 0.74624409 0.09892181 0.17088237 0.05762906 0.05939628 0.16808897\n",
      " 0.01722172 0.01494967 0.04614826 0.02881903 0.12418492 0.16970638\n",
      " 0.16823261 0.14192357 0.08940635 0.05593314 0.15397941 0.78806393\n",
      " 0.73206703 0.65726731 0.0865534  0.08605393 0.07040456 0.01798296\n",
      " 0.28184359 0.04271883 0.07357164 0.0464166  0.03390645 0.01427233\n",
      " 0.13439669 0.14367148 0.08724804 0.73827984 0.06146659 0.06831531\n",
      " 0.13244494 0.1253848  0.08729888 0.67681202 0.12031972 0.04503064\n",
      " 0.1171052  0.13685946 0.14136817 0.13925568 0.07935705 0.68822777\n",
      " 0.2128456  0.74526758 0.03430523 0.75011613 0.13678008 0.12556637\n",
      " 0.03393388 0.09823715 0.70423629 0.04138448 0.0786672  0.14538254\n",
      " 0.14486308 0.01623589 0.11008868 0.02516987 0.01745794 0.13346308\n",
      " 0.15871627 0.09160412 0.15596205 0.1368202  0.07435618 0.16127041\n",
      " 0.07817207 0.17102939 0.04748181 0.03544663 0.1161193  0.3382348\n",
      " 0.74901235 0.186763   0.09660906 0.1549405  0.01833139 0.02496206\n",
      " 0.08966496 0.24528433 0.63312668 0.18997415 0.8230222  0.14049903\n",
      " 0.10687598 0.69034717 0.06121161 0.03454241 0.71681129 0.07029079\n",
      " 0.05161524 0.13978574 0.35250308 0.1855785  0.20894712 0.24199516\n",
      " 0.08299276 0.07031219 0.04907711 0.13675995 0.01656366 0.17380388\n",
      " 0.05344606 0.12735414 0.02441244 0.1514804  0.17649071 0.71719116\n",
      " 0.03303302 0.0466363  0.76518512 0.05100674 0.13289797 0.03879148\n",
      " 0.4817496  0.15044666 0.07144786 0.03631521 0.23809175 0.23230031\n",
      " 0.74266452 0.12535195 0.74569817 0.71929578 0.14649357 0.17719183\n",
      " 0.11030755 0.03773482 0.11850394 0.11072183 0.06174349 0.69756802\n",
      " 0.78432522 0.06784368 0.13570638 0.13369578 0.13363487 0.07029555\n",
      " 0.02452327 0.13352327 0.01761865 0.03895247 0.03455899 0.11531048\n",
      " 0.10846516 0.80315872 0.07068296 0.52082455 0.03983926 0.17749625\n",
      " 0.0080782  0.00655201 0.00762121 0.01584113 0.28547421 0.02373916\n",
      " 0.01889018 0.01647261 0.02108413 0.04129433 0.06168332 0.0266937\n",
      " 0.32732172 0.03953495 0.0282844  0.02617235 0.06867915 0.07620696\n",
      " 0.06774462 0.09028064 0.11076053 0.03882883 0.03998937 0.04709019\n",
      " 0.05205159 0.03219027 0.11702855 0.0881871  0.04959139 0.10684434\n",
      " 0.61332286 0.17615255 0.04755003 0.09597679 0.60822178 0.50977999\n",
      " 0.1107235  0.77207678 0.1941859  0.7323151  0.12654925 0.73265507\n",
      " 0.08285646 0.17891472 0.13491394 0.19496749 0.11665124 0.0375006\n",
      " 0.04969998 0.72352904 0.1412781  0.05983401 0.22069929 0.05861403\n",
      " 0.06621203 0.12767751 0.73063353 0.1128293  0.51959029 0.72816947\n",
      " 0.83366165 0.11605664 0.26112277 0.0515239  0.05173006 0.11966276\n",
      " 0.1045278  0.0424337  0.04526697 0.16343665 0.22300768 0.71391902\n",
      " 0.39937224 0.16343665 0.74311285 0.11565549 0.72999808 0.75100999\n",
      " 0.69009795 0.37531573 0.76119256 0.14845201 0.05048985 0.09423468\n",
      " 0.50763536 0.72575474 0.04603647 0.15602595 0.28249263 0.23334309\n",
      " 0.75100999 0.72566042 0.68647221 0.69009795 0.04192787 0.11055416\n",
      " 0.71735804 0.05488536 0.05874891 0.09426098 0.03758323 0.14845201\n",
      " 0.76119256 0.68089213 0.69449905 0.71735804 0.16343665 0.04675036\n",
      " 0.10173976 0.11268033 0.7207719  0.14733001 0.37531573 0.13266352\n",
      " 0.07361383 0.71391902 0.63328167 0.06212433 0.19435738 0.06307974\n",
      " 0.70420702 0.24336715 0.06536528 0.73891052 0.65341268 0.04193368\n",
      " 0.14845201 0.68187429 0.11739522 0.11832089 0.21266248 0.08276166\n",
      " 0.60123627 0.14845201]\n"
     ]
    },
    {
     "data": {
      "text/plain": [
       "<AxesSubplot:xlabel='pscore', ylabel='Count'>"
      ]
     },
     "execution_count": 9,
     "metadata": {},
     "output_type": "execute_result"
    },
    {
     "data": {
      "image/png": "[encoded data removed]",
      "text/plain": [
       "<Figure size 432x288 with 1 Axes>"
      ]
     },
     "metadata": {},
     "output_type": "display_data"
    }
   ],
   "source": [
    "pscore_logit=logit_full1_res.predict()\n",
    "print(pscore_logit)\n",
    "lalonde_df['pscore']=pscore_logit\n",
    "sns.histplot(data=lalonde_df,x='pscore',hue=\"treat\")"
   ]
  },
  {
   "cell_type": "markdown",
   "metadata": {},
   "source": [
    "### Matching using $k$-nearest neighbors\n",
    "\n",
    "We are going to match each treated subject with a control subject using nearest neighbors matching on the estimated propensity score. Here, we use another popular clustering algorithm: the **$k$-nearest neighbors ($k$-NN) algorithm**. This algorithm is quite similar to the one we used in Case 7.5. However, instead of finding the single control individual with the closest propensity score, it finds the $k$ control individuals with the closest propensity scores. The use of $k>1$ is handy for classification purposes: if each individual lies in a category, we can classify a new individual by finding its $k$ nearest neighbors and use the most common category of its neighbors as the selected category for the new individual. "
   ]
  },
  {
   "cell_type": "markdown",
   "metadata": {
    "tags": [
     "30_min"
    ]
   },
   "source": [
    "### Exercise 4\n",
    "\n",
    "In this exercise, we will use the `sklearn.neighbors` function [`NearestNeighbors`](https://scikit-learn.org/stable/modules/generated/sklearn.neighbors.NearestNeighbors.html#sklearn.neighbors.NearestNeighbors.kneighbors) to find, for each subject in the treatment group, the $k=5$ subjects in the control group with the closest propensity scores.\n",
    "\n",
    "#### 4.1\n",
    "\n",
    "Separate the propensity scores `pscore_logit` found in Exercise 3 for treatment and control groups. Call these `treat_pscores` and `control_pscores` respectively. Use the `control_pscores` to train a $k$-NN algorithm with $k=5$.\n",
    "\n",
    "**Hint:** Load the model using `knn = neighbors.NearestNeighbors(n_neighbors=5,metric='euclidean')`. You may want to reshape the control scores using `control_pscores.reshape(-1,1)`."
   ]
  },
  {
   "cell_type": "markdown",
   "metadata": {
    "tags": [
     "ans_st"
    ]
   },
   "source": [
    "**Answer.**"
   ]
  },
  {
   "cell_type": "code",
   "execution_count": 10,
   "metadata": {},
   "outputs": [],
   "source": [
    "treat_pscores=lalonde_df[lalonde_df['treat']==1]['pscore']\n",
    "control_pscores=lalonde_df[lalonde_df['treat']==0]['pscore']\n",
    "knn = neighbors.NearestNeighbors(n_neighbors=5, metric='euclidean').fit(treat_pscores.values.reshape(-1,1))"
   ]
  },
  {
   "cell_type": "markdown",
   "metadata": {},
   "source": [
    "#### 4.2\n",
    "\n",
    "Find the indices of the five nearest neighbors using the method `.kneighbors()` applied to `treat_pscores`. "
   ]
  },
  {
   "cell_type": "markdown",
   "metadata": {
    "tags": [
     "ans_st"
    ]
   },
   "source": [
    "**Answer.**"
   ]
  },
  {
   "cell_type": "code",
   "execution_count": 11,
   "metadata": {},
   "outputs": [],
   "source": [
    "distances, indices = knn.kneighbors(control_pscores.values.reshape(-1,1))"
   ]
  },
  {
   "cell_type": "markdown",
   "metadata": {},
   "source": [
    "#### 4.3\n",
    "\n",
    "Match the treatment and control groups using the closest of the five neighbors found above. Your output should be a pair of `DataFrames`, each with $185$ rows from the `lalonde_df`. The first should correspond to the treatment group and the second should correspond to the matched control group."
   ]
  },
  {
   "cell_type": "markdown",
   "metadata": {
    "tags": [
     "ans_st"
    ]
   },
   "source": [
    "**Answer.**"
   ]
  },
  {
   "cell_type": "code",
   "execution_count": 14,
   "metadata": {},
   "outputs": [
    {
     "name": "stdout",
     "output_type": "stream",
     "text": [
      "         treat  age  educ  black  hispan  married  nodegree      re74  \\\n",
      "PSID1        0   30    12      0       0        1         0  20166.73   \n",
      "PSID2        0   26    12      0       0        1         0  25862.32   \n",
      "PSID3        0   25    16      0       0        1         0  25862.32   \n",
      "PSID4        0   42    11      0       0        1         1  21787.05   \n",
      "PSID5        0   25     9      1       0        1         1  14829.69   \n",
      "...        ...  ...   ...    ...     ...      ...       ...       ...   \n",
      "PSID425      0   18    11      0       0        0         1      0.00   \n",
      "PSID426      0   24     1      0       1        1         1      0.00   \n",
      "PSID427      0   21    18      0       0        0         0      0.00   \n",
      "PSID428      0   32     5      1       0        1         1      0.00   \n",
      "PSID429      0   16     9      0       0        0         1      0.00   \n",
      "\n",
      "             re75        re78    pscore  \n",
      "PSID1    18347.23  25564.6700  0.033204  \n",
      "PSID2    17806.55  25564.6700  0.033204  \n",
      "PSID3    15316.21  25564.6700  0.033204  \n",
      "PSID4    14265.29  15491.0100  0.033204  \n",
      "PSID5    13776.53      0.0000  0.436351  \n",
      "...           ...         ...       ...  \n",
      "PSID425      0.00  10150.5000  0.118241  \n",
      "PSID426      0.00  19464.6100  0.215547  \n",
      "PSID427      0.00      0.0000  0.078307  \n",
      "PSID428      0.00    187.6713  0.602407  \n",
      "PSID429      0.00   1495.4590  0.146411  \n",
      "\n",
      "[429 rows x 11 columns]\n"
     ]
    }
   ],
   "source": [
    "match_indices=indices[:,0]\n",
    "pscores=list()\n",
    "for i in range(len(control_df)):\n",
    "    pscores.append(treat_pscores[match_indices[i]])\n",
    "control_df['pscore']=pscores\n",
    "\n",
    "print(control_df)"
   ]
  },
  {
   "cell_type": "markdown",
   "metadata": {},
   "source": [
    "### Propensity score distribution plot after matching\n",
    "\n",
    "Let's take a glance at the distribution of propensity score after matching. Both groups have similar distributions on the propensity score. This means we have reach a balance in both groups. This enables us to further analyze the causality effect of the treatment."
   ]
  },
  {
   "cell_type": "markdown",
   "metadata": {
    "tags": [
     "15_min"
    ]
   },
   "source": [
    "### Exercise 5\n",
    "\n",
    "Make a plot which shows the histograms of propensity scores for the control and treatment groups after matching. Compare your results with the plot in Exercise 3.2."
   ]
  },
  {
   "cell_type": "code",
   "execution_count": 23,
   "metadata": {
    "tags": [
     "ans_st"
    ]
   },
   "outputs": [
    {
     "data": {
      "text/plain": [
       "<AxesSubplot:xlabel='pscore', ylabel='Density'>"
      ]
     },
     "execution_count": 23,
     "metadata": {},
     "output_type": "execute_result"
    },
    {
     "data": {
      "image/png": "[encoded data removed]",
      "text/plain": [
       "<Figure size 432x288 with 1 Axes>"
      ]
     },
     "metadata": {},
     "output_type": "display_data"
    }
   ],
   "source": [
    "sns.distplot(treat_pscores)\n",
    "sns.distplot(control_df['pscore'])\n",
    "control_pscores=control_df['pscore']"
   ]
  },
  {
   "cell_type": "markdown",
   "metadata": {},
   "source": []
  },
  {
   "cell_type": "markdown",
   "metadata": {
    "tags": [
     "30_min"
    ]
   },
   "source": [
    "### Exercise 6\n",
    "\n",
    "Assess covariate balance after the $k$-NN matching.  For this, compute the absolute standardized differences in means in the covariates after matching,  $$ASMD_a(x)=\\frac{\\bar{x}_{t,a}-{\\bar{x}_{c,a}}}{\\sqrt{\\frac{s^{2}_{t,b} + s^{2}_{c,b}}{2}}},$$ where $\\bar{x}_{t,a}$ and $\\bar{x}_{c,a}$ are, respectively, the means of covariate $x$ in the treatment and control groups after matching, and $s^{2}_{t,b}$ and $s^{2}_{c,b}$ are, correspondingly, the sample variances treatment and control groups before matching. \n",
    "\n",
    "One reason to use the sample variances before matching rather than the sample variances after matching is to free the comparisons of the means after matching from simultaneous changes in the variances. Comment on covariate balance."
   ]
  },
  {
   "cell_type": "markdown",
   "metadata": {
    "tags": [
     "ans_st"
    ]
   },
   "source": [
    "**Answer.**"
   ]
  },
  {
   "cell_type": "code",
   "execution_count": 29,
   "metadata": {},
   "outputs": [
    {
     "name": "stdout",
     "output_type": "stream",
     "text": [
      "treat                inf\n",
      "age         2.214351e-03\n",
      "educ        3.042255e-02\n",
      "black       1.257858e+00\n",
      "hispan      2.078631e+00\n",
      "married     9.168574e-01\n",
      "nodegree    8.262599e-01\n",
      "re74        5.302647e-09\n",
      "re75        1.749961e-08\n",
      "re78        3.223314e-09\n",
      "pscore      3.660085e+00\n",
      "dtype: float64\n"
     ]
    }
   ],
   "source": [
    "group1= lalonde_df[lalonde_df['treat']==1]\n",
    "group2=lalonde_df[lalonde_df['treat']==0]\n",
    "sd1=group1.std()\n",
    "sd2=group2.std()\n",
    "mu1=treat_pscores.mean()\n",
    "mu2=control_pscores.mean()\n",
    "ASMD=(mu1-mu2)/((sd1**2 + sd2**2)/2)**1/2\n",
    "print(ASMD)"
   ]
  },
  {
   "cell_type": "markdown",
   "metadata": {
    "tags": [
     "15_min"
    ]
   },
   "source": [
    "### Exercise 7\n",
    "\n",
    "Estimate the average effect of treatment on wages (`re78`) after matching. What do you conclude?"
   ]
  },
  {
   "cell_type": "markdown",
   "metadata": {
    "tags": [
     "ans_st"
    ]
   },
   "source": [
    "**Answer.**"
   ]
  },
  {
   "cell_type": "code",
   "execution_count": 31,
   "metadata": {},
   "outputs": [
    {
     "name": "stdout",
     "output_type": "stream",
     "text": [
      "re78 before martching\n",
      "6792.8344829804555\n",
      "re78 after martching\n",
      "6252.685702664273\n",
      "improvement\n",
      "-540.1487803161826\n"
     ]
    }
   ],
   "source": [
    "print(\"re78 before martching\")\n",
    "print(lalonde_df['re78'].mean())\n",
    "re78=list()\n",
    "for i in range(len(control_df)):\n",
    "    re78.append(treatment_df['re78'][match_indices[i]])\n",
    "control_df['re78']=re78\n",
    "print(\"re78 after martching\")\n",
    "print((control_df['re78'].mean()+treatment_df['re78'].mean())/2)\n",
    "print(\"improvement\")\n",
    "print(((control_df['re78'].mean()+treatment_df['re78'].mean())/2 )-lalonde_df['re78'].mean())"
   ]
  },
  {
   "cell_type": "markdown",
   "metadata": {},
   "source": [
    "based on the matching the effect of the treatment was not positive"
   ]
  },
  {
   "cell_type": "markdown",
   "metadata": {},
   "source": [
    "## Propensity score matching using decision trees and random forests"
   ]
  },
  {
   "cell_type": "markdown",
   "metadata": {
    "tags": [
     "45_min"
    ]
   },
   "source": [
    "### Exercise 8\n",
    "\n",
    "To validate our propensity score calculations, let's try calculating them using other models such as decision trees and random forests."
   ]
  },
  {
   "cell_type": "markdown",
   "metadata": {},
   "source": [
    "#### 8.1\n",
    "\n",
    "Build a decision tree regressor where the outcome variable is whether a subject was in the treatment group or not, and the covariates are all the other variables except `re78`. Use the `sklearn.tree` function `DecisionTreeRegressor(max_depth=4)` and call the new propensity scores `pscore_tree`."
   ]
  },
  {
   "cell_type": "markdown",
   "metadata": {
    "tags": [
     "ans_st"
    ]
   },
   "source": [
    "**Answer.**"
   ]
  },
  {
   "cell_type": "markdown",
   "metadata": {},
   "source": []
  },
  {
   "cell_type": "markdown",
   "metadata": {},
   "source": [
    "#### 8.2\n",
    "\n",
    "Plot the decision tree regressor using the code\n",
    "\n",
    "```\n",
    "fig = plt.gcf()\n",
    "fig.set_size_inches(150, 100)\n",
    "tree.plot_tree(dt,filled=True,feature_names=cleaned_df.columns)\n",
    "fig.savefig('tree.png')\n",
    "```\n",
    "\n",
    "Replace `dt` with the name of the model created in Exercise 8.1. Use the plot to estimate the probability that a 24 year old, single, uneducated Hispanic individual that earned $\\$20000$ in 1974 was enrolled in the employment program. Do the same with a black man with the same characteristics. (Assume that there were no black Hispanics in the study.)"
   ]
  },
  {
   "cell_type": "markdown",
   "metadata": {
    "tags": [
     "ans_st"
    ]
   },
   "source": [
    "**Answer.**"
   ]
  },
  {
   "cell_type": "markdown",
   "metadata": {},
   "source": [
    "-------"
   ]
  },
  {
   "cell_type": "markdown",
   "metadata": {},
   "source": [
    "#### 8.3\n",
    "\n",
    "Estimate the propensity scores now by using random forests. For the model, use the `sklearn.ensemble` function `RandomForestClassifier` with parameters `n_estimators=100, max_depth=4, random_state=42`. Then, use the method `predict_proba` to extract the propensity scores. Name the scores `pscore_forest`."
   ]
  },
  {
   "cell_type": "markdown",
   "metadata": {
    "tags": [
     "ans_st"
    ]
   },
   "source": [
    "**Answer.**"
   ]
  },
  {
   "cell_type": "markdown",
   "metadata": {},
   "source": [
    "-------"
   ]
  },
  {
   "cell_type": "markdown",
   "metadata": {},
   "source": [
    "#### 8.4\n",
    "\n",
    "Make a plot with the three ROC curves corresponding to the logistic regression, decision tree, and random forest classifiers used to compute the propensity scores. What is the AUC of each model? Which model *seems* to do the best job?"
   ]
  },
  {
   "cell_type": "markdown",
   "metadata": {
    "tags": [
     "ans_st"
    ]
   },
   "source": [
    "**Answer.**"
   ]
  },
  {
   "cell_type": "markdown",
   "metadata": {},
   "source": [
    "-------"
   ]
  },
  {
   "cell_type": "markdown",
   "metadata": {},
   "source": [
    "#### 8.5\n",
    "\n",
    "Consider the following statement:\n",
    "\n",
    ">  \"*A model with a higher AUC provides much better estimates of the true propensity scores. In particular, a matching using the propensity scores of such a model will balance the covariates much better.*\"\n",
    "\n",
    "Is the statement true or false? Explain. "
   ]
  },
  {
   "cell_type": "markdown",
   "metadata": {
    "tags": [
     "ans_st"
    ]
   },
   "source": [
    "**Answer.**"
   ]
  },
  {
   "cell_type": "markdown",
   "metadata": {},
   "source": [
    "True, the AUC provides better estmates, but higher AUC in train doesn't mean better model, what matters is the performance in the real application or in the test set"
   ]
  },
  {
   "cell_type": "markdown",
   "metadata": {
    "collapsed": true
   },
   "source": [
    "#### 8.6\n",
    "\n",
    "Repeat the matching procedure now with the estimated propensity scores `pscore_tree` and `pscore_forest`. Assess the covariate balances and estimate the average effect of treatment on wages (`re78`) after matching. Compare your results. "
   ]
  },
  {
   "cell_type": "markdown",
   "metadata": {
    "tags": [
     "ans_st"
    ]
   },
   "source": [
    "**Answer.**"
   ]
  },
  {
   "cell_type": "markdown",
   "metadata": {},
   "source": [
    "-------"
   ]
  },
  {
   "cell_type": "markdown",
   "metadata": {},
   "source": [
    "#### 8.7\n",
    "\n",
    "Why do you think the decision tree regressor performed badly on balancing the covariates of the treat and control groups?  \n",
    "\n",
    "**Hint:** Look at the distances of the ten nearest neighbors output by `.kneighbors()` for the propensity scores of the decision tree model. What do you see? Why do you think these distances may have an impact on balancing?"
   ]
  },
  {
   "cell_type": "markdown",
   "metadata": {
    "tags": [
     "ans_st"
    ]
   },
   "source": [
    "**Answer.**"
   ]
  },
  {
   "cell_type": "markdown",
   "metadata": {},
   "source": [
    "the balancing isn't as good because the distances are higher so we have the nearest neighbors but they arent necesarily a good representative neighbor"
   ]
  },
  {
   "cell_type": "code",
   "execution_count": null,
   "metadata": {},
   "outputs": [],
   "source": []
  }
 ],
 "metadata": {
  "c1_recart": "7.1.0-57c20131aabc1dc2a8c675852d80a7da",
  "kernelspec": {
   "display_name": "Python 3",
   "language": "python",
   "name": "python3"
  },
  "language_info": {
   "codemirror_mode": {
    "name": "ipython",
    "version": 3
   },
   "file_extension": ".py",
   "mimetype": "text/x-python",
   "name": "python",
   "nbconvert_exporter": "python",
   "pygments_lexer": "ipython3",
   "version": "3.6.13"
  },
  "varInspector": {
   "cols": {
    "lenName": 16,
    "lenType": 16,
    "lenVar": 40
   },
   "kernels_config": {
    "python": {
     "delete_cmd_postfix": "",
     "delete_cmd_prefix": "del ",
     "library": "var_list.py",
     "varRefreshCmd": "print(var_dic_list())"
    },
    "r": {
     "delete_cmd_postfix": ") ",
     "delete_cmd_prefix": "rm(",
     "library": "var_list.r",
     "varRefreshCmd": "cat(var_dic_list()) "
    }
   },
   "types_to_exclude": [
    "module",
    "function",
    "builtin_function_or_method",
    "instance",
    "_Feature"
   ],
   "window_display": false
  }
 },
 "nbformat": 4,
 "nbformat_minor": 2
}
