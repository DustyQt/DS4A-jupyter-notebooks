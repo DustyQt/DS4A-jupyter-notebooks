{
 "cells": [
  {
   "cell_type": "markdown",
   "metadata": {},
   "source": [
    "# Generating useful features for further analysis on Amazon reviews\n",
    "\n",
    "## Introduction\n",
    "\n",
    "**Business Context.** You are a business consultant with new clients that are interested in analyzing reviews of their products on Amazon (as opposed to Yelp). They want to answer business questions like: \"What are the most important factors driving negative reviews?\", \"Have there been any large changes to customer satisfaction/reviews over time?\", etc.\n",
    "\n",
    "**Business Problem.** Your main task is to **explore the given data and use the results of your investigation to engineer relevant features that could facilitate subsequent analysis and model-building**.\n",
    "\n",
    "**Analytical Context.** The dataset provided is a large body of reviews related to movies and television left on Amazon between 1996 and 2014. When exploring our dataset, we will quickly encounter a familiar problem we discussed in the previous case: the word \"good\" is one of the most important words in both positive *and* negative reviews. Thus, we must develop methods to put \"good\" in the appropriate context."
   ]
  },
  {
   "cell_type": "markdown",
   "metadata": {},
   "source": [
    "## Loading the data\n",
    "\n",
    "We use a dataset of around 37,000 video reviews from Amazon Instant Video and 1,700,000 movie and TV reviews, all obtained from the website: http://jmcauley.ucsd.edu/data/amazon/. Note that there are much larger datasets available at the same site. We can expect better and more consistent results on larger datasets (such as book reviews). Note that these datasets are compressed (gzipped), and they are in [JSON](https://en.wikipedia.org/wiki/JSON) format, with each line representing a review and each line being its own JSON object.\n",
    "\n",
    "We begin by loading the dataset below:"
   ]
  },
  {
   "cell_type": "code",
   "execution_count": 1,
   "metadata": {},
   "outputs": [],
   "source": [
    "%matplotlib inline"
   ]
  },
  {
   "cell_type": "code",
   "execution_count": 2,
   "metadata": {},
   "outputs": [
    {
     "name": "stderr",
     "output_type": "stream",
     "text": [
      "[nltk_data] Downloading package punkt to /home/jovyan/nltk_data...\n",
      "[nltk_data]   Package punkt is already up-to-date!\n"
     ]
    },
    {
     "name": "stdout",
     "output_type": "stream",
     "text": [
      "CPU times: user 2.17 s, sys: 557 ms, total: 2.73 s\n",
      "Wall time: 11.5 s\n"
     ]
    }
   ],
   "source": [
    "%%time\n",
    "import gzip\n",
    "import json\n",
    "import string\n",
    "\n",
    "import nltk # imports the natural language toolkit\n",
    "import pandas as pd\n",
    "import plotly\n",
    "import seaborn as sns\n",
    "nltk.download('punkt')\n",
    "\n",
    "\n",
    "# we can tell pandas that our file is in gzip format and it will handle the decompression for us\n",
    "# we also use `lines=True` to indicate that each line of the file is its own JSON object\n",
    "instant_video = pd.read_json(\"reviews_Amazon_Instant_Video_5.json.gz\", lines=True, compression='gzip')\n",
    "\n",
    "\n",
    "# ----------\n",
    "# The Movies and TV file is very big. If you have problems loading it, you can load only the first \n",
    "# 10000 reviews by using 'chunksize'. All of the analysis can be \n",
    "# done in the same way using only the subset of reviews but some of the results might be different from the examples.\n",
    "# ----------\n",
    "movies_tv = next(pd.read_json(\"reviews_Movies_and_TV_5.json.gz\", lines=True, compression='gzip', chunksize=10000))\n",
    "# If your computer has enough memory, uncomment the line below to use the entire dataset.\n",
    "# movies_tv = pd.read_json(\"reviews_Movies_and_TV_5.json.gz\", lines=True, compression='gzip')\n"
   ]
  },
  {
   "cell_type": "markdown",
   "metadata": {},
   "source": [
    "## Examining the data\n",
    "\n",
    "We take a look at the first 5 rows of each dataset to see what attributes are available. These are\n",
    "\n",
    "* **reviewerID:** A unique ID to identify the author of the review.\n",
    "* **asin:** The [\"Amazon Standard Identification Number\"](https://www.amazon.com/gp/seller/asin-upc-isbn-info.html) which provides more information about the exact product and version.\n",
    "* **reviewerName:** The username chosen by the reviewer.\n",
    "* **helpful:** A record of how many users indicated that the review was helpful/not helpful.\n",
    "* **reviewText:** The full text of the review.\n",
    "* **overall:** The overall rating (1-5) left by the reviewer.\n",
    "* **summary:** A short version of the review, used as the title.\n",
    "* **unixReviewTime:** The date that the review was created, in [Unix Epoch](https://en.wikipedia.org/wiki/Unix_time) format.\n",
    "* **reviewTime:** A human readable date giving the day, month, and year.\n",
    "</font>"
   ]
  },
  {
   "cell_type": "code",
   "execution_count": 3,
   "metadata": {},
   "outputs": [
    {
     "name": "stdout",
     "output_type": "stream",
     "text": [
      "37126\n",
      "       reviewerID        asin                    reviewerName helpful  \\\n",
      "0  A11N155CW1UV02  B000H00VBQ                        AdrianaM  [0, 0]   \n",
      "1  A3BC8O2KCL29V2  B000H00VBQ                         Carol T  [0, 0]   \n",
      "2   A60D5HQFOTSOM  B000H00VBQ  Daniel Cooper \"dancoopermedia\"  [0, 1]   \n",
      "3  A1RJPIGRSNX4PW  B000H00VBQ                  J. Kaplan \"JJ\"  [0, 0]   \n",
      "4  A16XRPF40679KG  B000H00VBQ                   Michael Dobey  [1, 1]   \n",
      "\n",
      "                                          reviewText  overall  \\\n",
      "0  I had big expectations because I love English ...        2   \n",
      "1  I highly recommend this series. It is a must f...        5   \n",
      "2  This one is a real snoozer. Don't believe anyt...        1   \n",
      "3  Mysteries are interesting.  The tension betwee...        4   \n",
      "4  This show always is excellent, as far as briti...        5   \n",
      "\n",
      "                          summary  unixReviewTime   reviewTime  \n",
      "0      A little bit boring for me      1399075200   05 3, 2014  \n",
      "1           Excellent Grown Up TV      1346630400   09 3, 2012  \n",
      "2           Way too boring for me      1381881600  10 16, 2013  \n",
      "3     Robson Green is mesmerizing      1383091200  10 30, 2013  \n",
      "4  Robson green and great writing      1234310400  02 11, 2009  \n"
     ]
    }
   ],
   "source": [
    "print(len(instant_video))\n",
    "print(instant_video.head(5))"
   ]
  },
  {
   "cell_type": "code",
   "execution_count": 4,
   "metadata": {},
   "outputs": [
    {
     "name": "stdout",
     "output_type": "stream",
     "text": [
      "10000\n",
      "       reviewerID        asin                         reviewerName helpful  \\\n",
      "0   ADZPIG9QOCDG5  0005019281  Alice L. Larson \"alice-loves-books\"  [0, 0]   \n",
      "1  A35947ZP82G7JH  0005019281                        Amarah Strack  [0, 0]   \n",
      "2  A3UORV8A9D5L2E  0005019281                      Amazon Customer  [0, 0]   \n",
      "3  A1VKW06X1O2X7V  0005019281           Amazon Customer \"Softmill\"  [0, 0]   \n",
      "4  A3R27T4HADWFFJ  0005019281                                 BABE  [0, 0]   \n",
      "\n",
      "                                          reviewText  overall  \\\n",
      "0  This is a charming version of the classic Dick...        4   \n",
      "1  It was good but not as emotionally moving as t...        3   \n",
      "2  Don't get me wrong, Winkler is a wonderful cha...        3   \n",
      "3  Henry Winkler is very good in this twist on th...        5   \n",
      "4  This is one of the best Scrooge movies out.  H...        4   \n",
      "\n",
      "                                        summary  unixReviewTime   reviewTime  \n",
      "0                     good version of a classic      1203984000  02 26, 2008  \n",
      "1                        Good but not as moving      1388361600  12 30, 2013  \n",
      "2         Winkler's Performance was ok at best!      1388361600  12 30, 2013  \n",
      "3  It's an enjoyable twist on the classic story      1202860800  02 13, 2008  \n",
      "4                              Best Scrooge yet      1387670400  12 22, 2013  \n"
     ]
    }
   ],
   "source": [
    "print(len(movies_tv))\n",
    "print(movies_tv.head(5))"
   ]
  },
  {
   "cell_type": "markdown",
   "metadata": {},
   "source": [
    "We notice that `movies_tv` is extremely long with nearly 2 million reviews, and several columns seem uninteresting or hard to work with (e.g. `reviewerID`, `asin`, `reviewername`, `reviewtime`). We drop some information to make some of our later analysis more efficient. We also add a datetime column with Python datetime objects to more easily summarize the data:"
   ]
  },
  {
   "cell_type": "code",
   "execution_count": 5,
   "metadata": {},
   "outputs": [
    {
     "name": "stdout",
     "output_type": "stream",
     "text": [
      "CPU times: user 125 ms, sys: 693 µs, total: 125 ms\n",
      "Wall time: 585 ms\n"
     ]
    }
   ],
   "source": [
    "%%time\n",
    "movies_tv['datetime'] = pd.to_datetime(movies_tv['reviewTime'], format=\"%m %d, %Y\")\n",
    "instant_video['datetime'] = pd.to_datetime(instant_video['reviewTime'], format=\"%m %d, %Y\")"
   ]
  },
  {
   "cell_type": "code",
   "execution_count": 6,
   "metadata": {},
   "outputs": [
    {
     "data": {
      "text/html": [
       "<div>\n",
       "<style scoped>\n",
       "    .dataframe tbody tr th:only-of-type {\n",
       "        vertical-align: middle;\n",
       "    }\n",
       "\n",
       "    .dataframe tbody tr th {\n",
       "        vertical-align: top;\n",
       "    }\n",
       "\n",
       "    .dataframe thead th {\n",
       "        text-align: right;\n",
       "    }\n",
       "</style>\n",
       "<table border=\"1\" class=\"dataframe\">\n",
       "  <thead>\n",
       "    <tr style=\"text-align: right;\">\n",
       "      <th></th>\n",
       "      <th>helpful</th>\n",
       "      <th>reviewText</th>\n",
       "      <th>overall</th>\n",
       "      <th>summary</th>\n",
       "      <th>unixReviewTime</th>\n",
       "      <th>datetime</th>\n",
       "    </tr>\n",
       "  </thead>\n",
       "  <tbody>\n",
       "    <tr>\n",
       "      <th>0</th>\n",
       "      <td>[0, 0]</td>\n",
       "      <td>This is a charming version of the classic Dick...</td>\n",
       "      <td>4</td>\n",
       "      <td>good version of a classic</td>\n",
       "      <td>1203984000</td>\n",
       "      <td>2008-02-26</td>\n",
       "    </tr>\n",
       "    <tr>\n",
       "      <th>1</th>\n",
       "      <td>[0, 0]</td>\n",
       "      <td>It was good but not as emotionally moving as t...</td>\n",
       "      <td>3</td>\n",
       "      <td>Good but not as moving</td>\n",
       "      <td>1388361600</td>\n",
       "      <td>2013-12-30</td>\n",
       "    </tr>\n",
       "    <tr>\n",
       "      <th>2</th>\n",
       "      <td>[0, 0]</td>\n",
       "      <td>Don't get me wrong, Winkler is a wonderful cha...</td>\n",
       "      <td>3</td>\n",
       "      <td>Winkler's Performance was ok at best!</td>\n",
       "      <td>1388361600</td>\n",
       "      <td>2013-12-30</td>\n",
       "    </tr>\n",
       "    <tr>\n",
       "      <th>3</th>\n",
       "      <td>[0, 0]</td>\n",
       "      <td>Henry Winkler is very good in this twist on th...</td>\n",
       "      <td>5</td>\n",
       "      <td>It's an enjoyable twist on the classic story</td>\n",
       "      <td>1202860800</td>\n",
       "      <td>2008-02-13</td>\n",
       "    </tr>\n",
       "    <tr>\n",
       "      <th>4</th>\n",
       "      <td>[0, 0]</td>\n",
       "      <td>This is one of the best Scrooge movies out.  H...</td>\n",
       "      <td>4</td>\n",
       "      <td>Best Scrooge yet</td>\n",
       "      <td>1387670400</td>\n",
       "      <td>2013-12-22</td>\n",
       "    </tr>\n",
       "  </tbody>\n",
       "</table>\n",
       "</div>"
      ],
      "text/plain": [
       "  helpful                                         reviewText  overall  \\\n",
       "0  [0, 0]  This is a charming version of the classic Dick...        4   \n",
       "1  [0, 0]  It was good but not as emotionally moving as t...        3   \n",
       "2  [0, 0]  Don't get me wrong, Winkler is a wonderful cha...        3   \n",
       "3  [0, 0]  Henry Winkler is very good in this twist on th...        5   \n",
       "4  [0, 0]  This is one of the best Scrooge movies out.  H...        4   \n",
       "\n",
       "                                        summary  unixReviewTime   datetime  \n",
       "0                     good version of a classic      1203984000 2008-02-26  \n",
       "1                        Good but not as moving      1388361600 2013-12-30  \n",
       "2         Winkler's Performance was ok at best!      1388361600 2013-12-30  \n",
       "3  It's an enjoyable twist on the classic story      1202860800 2008-02-13  \n",
       "4                              Best Scrooge yet      1387670400 2013-12-22  "
      ]
     },
     "execution_count": 6,
     "metadata": {},
     "output_type": "execute_result"
    }
   ],
   "source": [
    "movies_tv = movies_tv.drop(columns = ['reviewerID', 'asin', 'reviewerName', 'reviewTime'])\n",
    "instant_video = instant_video.drop(columns = ['reviewerID', 'asin', 'reviewerName', 'reviewTime'])\n",
    "\n",
    "movies_tv.head(5)"
   ]
  },
  {
   "cell_type": "markdown",
   "metadata": {
    "tags": [
     "45_min"
    ]
   },
   "source": [
    "### Exercise 1:\n",
    "\n",
    "#### 1.1\n",
    "\n",
    "Plot histograms of all numeric quantities. Do you notice anything interesting about them?"
   ]
  },
  {
   "cell_type": "markdown",
   "metadata": {
    "tags": [
     "ans_st"
    ]
   },
   "source": [
    "**Answer.**"
   ]
  },
  {
   "cell_type": "code",
   "execution_count": 7,
   "metadata": {},
   "outputs": [
    {
     "data": {
      "text/plain": [
       "<AxesSubplot:xlabel='Count', ylabel='overall'>"
      ]
     },
     "execution_count": 7,
     "metadata": {},
     "output_type": "execute_result"
    },
    {
     "data": {
      "image/png": "[encoded data removed]",
      "text/plain": [
       "<Figure size 432x288 with 1 Axes>"
      ]
     },
     "metadata": {
      "needs_background": "light"
     },
     "output_type": "display_data"
    }
   ],
   "source": [
    "sns.histplot(data=movies_tv, y='overall')"
   ]
  },
  {
   "cell_type": "markdown",
   "metadata": {},
   "source": [
    "#### 1.2\n",
    "\n",
    "How do average ratings change over time? Plot the average rating for each year and note any trends."
   ]
  },
  {
   "cell_type": "markdown",
   "metadata": {
    "tags": [
     "ans_st"
    ]
   },
   "source": [
    "**Answer.**"
   ]
  },
  {
   "cell_type": "code",
   "execution_count": 8,
   "metadata": {},
   "outputs": [
    {
     "data": {
      "text/plain": [
       "<AxesSubplot:xlabel='year', ylabel='overall'>"
      ]
     },
     "execution_count": 8,
     "metadata": {},
     "output_type": "execute_result"
    },
    {
     "data": {
      "image/png": "[encoded data removed]",
      "text/plain": [
       "<Figure size 432x288 with 1 Axes>"
      ]
     },
     "metadata": {
      "needs_background": "light"
     },
     "output_type": "display_data"
    }
   ],
   "source": [
    "movies_tv[\"year\"] = movies_tv.datetime.dt.year\n",
    "movies_tv.groupby(['year']).mean()\n",
    "sns.lineplot(data=movies_tv, x=\"year\", y=\"overall\")"
   ]
  },
  {
   "cell_type": "markdown",
   "metadata": {},
   "source": [
    "There is an increase in the mean of the reviews,the overall mean increased from 3.8 in 1998 to 4.5 in 2014"
   ]
  },
  {
   "cell_type": "markdown",
   "metadata": {},
   "source": [
    "#### 1.3\n",
    "\n",
    "Look at the average length of the review by year. Do you notice any trends?"
   ]
  },
  {
   "cell_type": "code",
   "execution_count": 9,
   "metadata": {},
   "outputs": [
    {
     "data": {
      "text/plain": [
       "<AxesSubplot:xlabel='datetime'>"
      ]
     },
     "execution_count": 9,
     "metadata": {},
     "output_type": "execute_result"
    },
    {
     "data": {
      "image/png": "[encoded data removed]",
      "text/plain": [
       "<Figure size 432x288 with 1 Axes>"
      ]
     },
     "metadata": {
      "needs_background": "light"
     },
     "output_type": "display_data"
    },
    {
     "data": {
      "image/png": "[encoded data removed]",
      "text/plain": [
       "<Figure size 432x288 with 1 Axes>"
      ]
     },
     "metadata": {
      "needs_background": "light"
     },
     "output_type": "display_data"
    }
   ],
   "source": [
    "instant_video['length'] = instant_video['reviewText'].apply(len)\n",
    "instant_video.groupby(instant_video.datetime.dt.year)['length'].mean().to_frame().plot(kind=\"bar\")\n",
    "\n",
    "movies_tv['length'] = movies_tv['reviewText'].apply(len)\n",
    "movies_tv.groupby(movies_tv.datetime.dt.year)['length'].mean().to_frame().plot(kind=\"bar\")"
   ]
  },
  {
   "cell_type": "markdown",
   "metadata": {
    "tags": [
     "ans_st"
    ]
   },
   "source": [
    "**Answer.**"
   ]
  },
  {
   "cell_type": "markdown",
   "metadata": {},
   "source": [
    "Eventough the mean of the reviews has increased the amount of reviews has decreased, this could mean that the overall reviews aren't better as suggestes by the previous graph, but instead only the people that like the movie review and we could be missing the real perception of the movie."
   ]
  },
  {
   "cell_type": "markdown",
   "metadata": {
    "tags": [
     "60_min"
    ]
   },
   "source": [
    "### Exercise 2:\n",
    "\n",
    "#### 2.1\n",
    "\n",
    "Find the ten most frequently occuring non-stop words acrooss: (i) all reviews, (ii) positive reviews, (iii) negative reviews. Do the results surprise you? Why or why not?"
   ]
  },
  {
   "cell_type": "markdown",
   "metadata": {
    "tags": [
     "ans_st"
    ]
   },
   "source": [
    "**Answer.**"
   ]
  },
  {
   "cell_type": "code",
   "execution_count": 10,
   "metadata": {},
   "outputs": [
    {
     "name": "stderr",
     "output_type": "stream",
     "text": [
      "[nltk_data] Downloading package stopwords to /home/jovyan/nltk_data...\n",
      "[nltk_data]   Package stopwords is already up-to-date!\n"
     ]
    },
    {
     "name": "stdout",
     "output_type": "stream",
     "text": [
      "all\n",
      "[('i', 21800), ('movie', 12791), ('the', 11653), ('film', 10230), ('one', 7617), ('it', 5043), ('like', 4642), ('great', 4109), ('quot', 4106), ('good', 4033)]\n",
      "negative\n",
      "[('i', 2631), ('movie', 1324), ('the', 1044), ('film', 1023), ('one', 640), ('like', 572), ('would', 530), ('jesus', 465), ('it', 459), ('quot', 393)]\n",
      "positive\n",
      "[('i', 19177), ('movie', 11469), ('the', 10609), ('film', 9206), ('one', 6978), ('it', 4584), ('like', 4071), ('great', 3928), ('quot', 3713), ('good', 3703)]\n"
     ]
    }
   ],
   "source": [
    "nltk.download('stopwords')\n",
    "negative_reviews=movies_tv[movies_tv['overall']<=2]\n",
    "positive_reviews=movies_tv[movies_tv['overall']>2]\n",
    "\n",
    "negative_text=''.join(negative_reviews['reviewText'])\n",
    "positive_text=''.join(positive_reviews['reviewText'])\n",
    "all_text=''.join(movies_tv['reviewText'])\n",
    "\n",
    "stopwords = nltk.corpus.stopwords.words('english')\n",
    "stopwords.append('i')\n",
    "\n",
    "allWords = nltk.tokenize.word_tokenize(all_text)\n",
    "negWords = nltk.tokenize.word_tokenize(negative_text)\n",
    "posWords = nltk.tokenize.word_tokenize(positive_text)\n",
    "\n",
    "allWordExceptStopDist = nltk.FreqDist(w.lower() for w in allWords if w not in stopwords if w.isalnum())\n",
    "negWordExceptStopDist = nltk.FreqDist(w.lower() for w in negWords if w not in stopwords if w.isalnum())\n",
    "posWordExceptStopDist = nltk.FreqDist(w.lower() for w in posWords if w not in stopwords if w.isalnum())\n",
    "print('all')\n",
    "print(allWordExceptStopDist.most_common(10))\n",
    "print('negative')\n",
    "print(negWordExceptStopDist.most_common(10))\n",
    "print('positive')\n",
    "print(posWordExceptStopDist.most_common(10))"
   ]
  },
  {
   "cell_type": "code",
   "execution_count": 11,
   "metadata": {},
   "outputs": [
    {
     "name": "stdout",
     "output_type": "stream",
     "text": [
      "all\n",
      "[('i', 21800), ('movie', 12791), ('the', 11653), ('film', 10230), ('one', 7617), ('it', 5043), ('like', 4642), ('great', 4109), ('quot', 4106), ('good', 4033), ('this', 3657), ('would', 3566), ('story', 3525), ('time', 3270), ('see', 3167), ('well', 2966), ('really', 2857), ('even', 2807), ('also', 2801), ('much', 2790)]\n",
      "negative\n",
      "[('i', 2631), ('movie', 1324), ('the', 1044), ('film', 1023), ('one', 640), ('like', 572), ('would', 530), ('jesus', 465), ('it', 459), ('quot', 393), ('even', 347), ('see', 333), ('good', 327), ('this', 308), ('could', 306), ('much', 306), ('really', 298), ('people', 290), ('story', 284), ('christ', 270)]\n",
      "positive\n",
      "[('i', 19177), ('movie', 11469), ('the', 10609), ('film', 9206), ('one', 6978), ('it', 4584), ('like', 4071), ('great', 3928), ('quot', 3713), ('good', 3703), ('this', 3345), ('story', 3242), ('would', 3036), ('time', 3006), ('see', 2834), ('well', 2772), ('love', 2588), ('also', 2581), ('really', 2558), ('much', 2484)]\n"
     ]
    }
   ],
   "source": [
    "#most common 10 was insufficent ill use most common 20\n",
    "print('all')\n",
    "print(allWordExceptStopDist.most_common(20))\n",
    "print('negative')\n",
    "print(negWordExceptStopDist.most_common(20))\n",
    "print('positive')\n",
    "print(posWordExceptStopDist.most_common(20))"
   ]
  },
  {
   "cell_type": "markdown",
   "metadata": {},
   "source": [
    " #### 2.2\n",
    "\n",
    "Find words that are indicative of bad reviews. That is, words that appear often in bad reviews and *not* in good reviews. What are these words and are they surprising?"
   ]
  },
  {
   "cell_type": "markdown",
   "metadata": {
    "tags": [
     "ans_st"
    ]
   },
   "source": [
    "**Answer.**"
   ]
  },
  {
   "cell_type": "markdown",
   "metadata": {},
   "source": [
    "For some funny reason jesus christ appears frequently in bad reviews, the words good and like appear in both bad and good reviews, and the words could, would appear in negative reviews where as in positive reviews really and love are the ones that appear frequently"
   ]
  },
  {
   "cell_type": "markdown",
   "metadata": {
    "tags": [
     "25_min"
    ]
   },
   "source": [
    "### Exercise 3:\n",
    "\n",
    "Manually inspect the first 10 negative reviews containing the word \"good\". What do you notice? How does this suggest we ought to proceed next?"
   ]
  },
  {
   "cell_type": "markdown",
   "metadata": {
    "tags": [
     "ans_st"
    ]
   },
   "source": [
    "**Answer.**"
   ]
  },
  {
   "cell_type": "code",
   "execution_count": 12,
   "metadata": {},
   "outputs": [
    {
     "name": "stderr",
     "output_type": "stream",
     "text": [
      "<ipython-input-12-d392430629f2>:1: FutureWarning: Passing a negative integer is deprecated in version 1.0 and will not be supported in future version. Instead, use None to not limit the column width.\n",
      "  pd.set_option('display.max_colwidth', -1)\n"
     ]
    },
    {
     "data": {
      "text/html": [
       "<div>\n",
       "<style scoped>\n",
       "    .dataframe tbody tr th:only-of-type {\n",
       "        vertical-align: middle;\n",
       "    }\n",
       "\n",
       "    .dataframe tbody tr th {\n",
       "        vertical-align: top;\n",
       "    }\n",
       "\n",
       "    .dataframe thead th {\n",
       "        text-align: right;\n",
       "    }\n",
       "</style>\n",
       "<table border=\"1\" class=\"dataframe\">\n",
       "  <thead>\n",
       "    <tr style=\"text-align: right;\">\n",
       "      <th></th>\n",
       "      <th>helpful</th>\n",
       "      <th>reviewText</th>\n",
       "      <th>overall</th>\n",
       "      <th>summary</th>\n",
       "      <th>unixReviewTime</th>\n",
       "      <th>datetime</th>\n",
       "      <th>year</th>\n",
       "      <th>length</th>\n",
       "    </tr>\n",
       "  </thead>\n",
       "  <tbody>\n",
       "    <tr>\n",
       "      <th>186</th>\n",
       "      <td>[13, 23]</td>\n",
       "      <td>The acting was good, the story was correct, but naked backsides was not necessary.  Also the Potiphers wife did not need to be so very seductive of a naked Joseph. Not a Christian movie.  I felt that even though it was probably portrayed truthfully, Christans do not need to see so explicit a scene.  This should be rated PG 13 at least.</td>\n",
       "      <td>1</td>\n",
       "      <td>Nakedness not necessary!</td>\n",
       "      <td>1298851200</td>\n",
       "      <td>2011-02-28</td>\n",
       "      <td>2011</td>\n",
       "      <td>337</td>\n",
       "    </tr>\n",
       "    <tr>\n",
       "      <th>405</th>\n",
       "      <td>[113, 119]</td>\n",
       "      <td>The DVD transfer is pretty good but the scene with Yukon discovering peppermint has been cut.It seems pretty odd to sell a DVD as a restored classic only to leave out the main thing that was to be restored!</td>\n",
       "      <td>1</td>\n",
       "      <td>Rudy what have they done!</td>\n",
       "      <td>1134259200</td>\n",
       "      <td>2005-12-11</td>\n",
       "      <td>2005</td>\n",
       "      <td>206</td>\n",
       "    </tr>\n",
       "    <tr>\n",
       "      <th>503</th>\n",
       "      <td>[15, 19]</td>\n",
       "      <td>ANOTHER American cultural icon from the 60's has beendeemed unacceptable by those who would prefer to seemalice where none exists.Not even Underdog can escape the slings and arrows ofthose with the same mentality as the book-burners of1930's Germany.Why do we allow such obvious Orwellian \"Newsspeak\" toedit our past? Come on... this IS a cartoon, for Pete'ssake, NOT some social/political statement.Nothing here needs to be edited or \"cleaned up\". Theseare simple \"good vs. evil\" stories with a happy ending,and should be offered in their entirety... music/songs,credits and all.And, if one is offended by ANY of this... then one mayexorcise one's freedom NOT to purchase such!Nuff' said...</td>\n",
       "      <td>2</td>\n",
       "      <td>The \"PC\" police strike AGAIN</td>\n",
       "      <td>1137974400</td>\n",
       "      <td>2006-01-23</td>\n",
       "      <td>2006</td>\n",
       "      <td>691</td>\n",
       "    </tr>\n",
       "    <tr>\n",
       "      <th>576</th>\n",
       "      <td>[9, 28]</td>\n",
       "      <td>why would mel gibson make a movie that would promote alot of controversy? hmm, do you think maybe it might be because ALOT OF PEOPLE WOULD WANT TO SEE IT THEN? i cant believe mel made this movie in honor of god, because if he did then he would of at least made it about an interesting story with a good plot and character development...i agree with the guy who said there should be a sequel. but instead of making jesus a race car driver let him come back from heaven decked out in all sorts of crazy gun crap like rambo. \"Jesus is back, and he is pissed\", follow jesus as he goes back in time to save john conner from the evil robots, and then when thats done jesus will master the magic dragon and go save the elven maidens on mount gundor! we can make it a coming of age story about how jesus is still learning about emotional development or something stupid like that, and in the end can become a pirate and sail into the sunset with a eye patch and pegged leg, or we could just crucify him again, and make sure the nails stay in place</td>\n",
       "      <td>1</td>\n",
       "      <td>Great! for a movie made by a corporate whore jackass</td>\n",
       "      <td>1114300800</td>\n",
       "      <td>2005-04-24</td>\n",
       "      <td>2005</td>\n",
       "      <td>1039</td>\n",
       "    </tr>\n",
       "    <tr>\n",
       "      <th>595</th>\n",
       "      <td>[1, 8]</td>\n",
       "      <td>Viewed: 5/14Rate: 15/14: The Passion of the Christ garnered a lot of attention in 2004, but I didn't get caught up in the hype or follow it for the slightest bit. Fast forward to ten years later, I was browsing through the library's shelf of movies that might strike my interest, and I saw The Passion of the Christ sitting there. So, I figured that I might give it a try. And I now wish that I never did and have regretted it. The thing with me, I don't watch movies made after the year of 2000 because almost everything I've seen thus far does not resemble good cinema in any shape, form, or manner. So, I gave up and declared that I'll only watch movies made before the end of the year 2000. There is a strong reason in my declaration, and The Passion of the Christ reaffirms my stance. The film brings out the worst of everything. It's the fake acting. It's the constant overt melodrama in everything that the characters do, feel, think, or speak. It's the free-all ultra-graphic torture. It's the unrealistic depiction of what a human being is capable of. It's the impossibility of physics. It's the unmerciful pacing that moves slow like molasses in January. It's the vapid storyline that seems to convey nothing of substance or significance. Truly, The Passion of the Christ is a waste of my time. By the way, I saw Braveheart and thought of it a terrific entertainment, and thenceforth, I was so annoyed by the many borrowed techniques from it into The Passion of the Christ. All in all, what I saw and felt is The Passion of the Torture on both sides: mine and the film's.</td>\n",
       "      <td>1</td>\n",
       "      <td>A Ridiculous Waste of My Time.</td>\n",
       "      <td>1400284800</td>\n",
       "      <td>2014-05-17</td>\n",
       "      <td>2014</td>\n",
       "      <td>1581</td>\n",
       "    </tr>\n",
       "    <tr>\n",
       "      <th>614</th>\n",
       "      <td>[9, 52]</td>\n",
       "      <td>The movie itself is beautifully filmed. The acting is quite good and as a history freak I found it interesting to hear Latin and Aramaic. I did not find it anti-semitic, but then I can understand why Jewish folk might be suspicious, given the beliefs espoused by Gibsons' family, and never actually disavowed by Gibson himself.I am not a Christian, so it struck me as odd that Christians would like this film from a theological standpoint. Perhaps I am just not getting it. I always understood that the most central point of the Jesus story was that he arose from the dead, not that he was tortured to death. So it suprises me that the film would concentrate almost entirely on this one aspect of the story, rather than on the resurrection part. That it does not, smacks of violence-as-a-marketing-tool to me. When all the hoopla has died down, it will be interesting to see how much money Gibson will have made off of the suffering of his savior.I have to say that I am more than a little shocked at the fawning tone I have seen in these reviews, particularly from Christians. The enthusiastic way in which they are taking joy in watching someone being slowly tortured to death is sickening; and exactly the same sort of bloodthirsty eagerness that the ancient Romans displayed when they watched animals and people (including Christians) being executed in the arena. The fact that there is a religious purpose to the film does not excuse this. I wonder if this movie were made with the exact same types of scenes, but without the religious content, how many of reviewers would still sing its praises. I guess Jesus' message has not really changed the human heart, eh? Shame on all of you.If you don't think about the movie's religious implcations and view it as a horror flick in period costume, the movie comes off just fine. However I suspect that this was not Gibson's intent.Not being a slasher movie fan, I probably won't see this movie again. Or even bother renting it, much less buying it. But if you are a modern day Savonarola, and believe that pain and suffering is the most important aspect of your religion, you will get off on this film.</td>\n",
       "      <td>1</td>\n",
       "      <td>Hypocritical and blasphemous.</td>\n",
       "      <td>1175385600</td>\n",
       "      <td>2007-04-01</td>\n",
       "      <td>2007</td>\n",
       "      <td>2151</td>\n",
       "    </tr>\n",
       "    <tr>\n",
       "      <th>634</th>\n",
       "      <td>[9, 32]</td>\n",
       "      <td>While the film was shot beautifully and the acting was fantastic, it did not help to overcome the hollow feeling this film left. Yes the violence was extreme, but in this regard it did more to hinder the emotion that was trying to be conveyed. There comes a point when it is TOO much. We, the audience, become desensitized and detached from what the filmmaker is trying to get across. In other words, the point is gotten across so much that we feel hit over the head with it. Whether you believe this stuff really happened or not (personally I do not), speaking from a film-only critique, it did more damage than good. And does anyone else find it a bit sad how they sell nails from the movie as necklace charms? Ugh! I'm sure if there is a Jesus, he wouldn't be so happy at a blatant grab for cash as opposed to helping a fellow man in need.</td>\n",
       "      <td>2</td>\n",
       "      <td>Overrated Fairy Tale</td>\n",
       "      <td>1082332800</td>\n",
       "      <td>2004-04-19</td>\n",
       "      <td>2004</td>\n",
       "      <td>842</td>\n",
       "    </tr>\n",
       "    <tr>\n",
       "      <th>639</th>\n",
       "      <td>[8, 20]</td>\n",
       "      <td>I finally saw this film after everyone has said all that can be said about it, so I'll be brief. Expecting the absolute worst from Mr. Mel \"Sadist\" Gibson, I have to say that this film is nowhere near as good as its idolatrous fan base would have you believe, but neither is it as repellent as its detractors claim. In short, it's just a movie, not a particularly good one, with absolutely no emotional content and nothing in it to either explain what's happening or to make you care. It looks terrific---Mel obviously has cash to spare for his film-director-as-God craziness. But that's about where the praise ends. The whole thing has a nasty tone; in Mel's version of the tale, anyone who had anything to do with Jesus suffers nothing but misery, and while I'm not a believer myself, my guess is that's not the moral of the story as Jesus would tell it. And when Jesus marches out of the tomb at the end, eyes a-blazin' and military music blasting away on the soundtrack, I forgot for a second whether I was watching a film about Jesus or whether I had accidentally stumbled on to \"Braveheart Part II.\" Mel Gibson is a wretched director, and the worst thing anyone can do with wretched directors is to take their work too seriously, for that gives them clout they don't deserve. All he's done here is turn a Biblical story into a horror movie, complete with creepy Satan babies and more shredded flesh than is on display in the entire \"Friday the 13th\" series. This stuff was camp 30 years ago, and it's just sad to see Gibson resorting to schlock effects in an attempt to make up for his movie's complete lack of narrative grounding. See this or don't see this, whichever is your preference. But religious or not, this film is not going to change your life. If it does, then you need to get a different one.Grade: D+</td>\n",
       "      <td>2</td>\n",
       "      <td>The Horror of the Christ</td>\n",
       "      <td>1114732800</td>\n",
       "      <td>2005-04-29</td>\n",
       "      <td>2005</td>\n",
       "      <td>1820</td>\n",
       "    </tr>\n",
       "    <tr>\n",
       "      <th>651</th>\n",
       "      <td>[7, 21]</td>\n",
       "      <td>Problem 1: People who take on side immediately, only because they want to feel connected to the \"mass\" pop-culture audience.  This is no mystery or suprise; be it sports, fashion, cars, vacation spots, etc., people desire connection to larger things mostly out of dissapointment from their own failures, losses, and frustrations.  Gibson did not just pander to the religious-right bible thumping deep south fanatics, but what he really was after was placing blame square on someone's shoulders: seeing that Morgenstern's father had to beg Mel to cut out the blood be on your children part, it's pretty straightforward as to where he comes from and who he wishes to demonize.  Furthermore, Gibson is staunchly Roman Catholic, demanding that people follow him and keep prayers in the Latin tongue...umm, alright Mel, frankly that whole side to you is lame and passe; it's like saying to someone \"Hey, do these prayers my way or the highway!\"  Mel really looked to place blame and rekindle old doubts and frictions between the Vatican and the Middle East; perhaps he had is way in that respect.  Main Point: Mel loves his Vatican and old religious practices and tried to turn the good Christians in America toward the side of the Vatican.  Result: very bad move.Problem 2: Religion or Race?  What is really more important and deeply engrained in the minds of most peoples?  Do you cast greater prejudice on grounds of physical features or religious affiliations?: Answer, race motivates on a deeper, actually realistic level as compared to phony religious claimings.  All of the worlds struggles, great conflicts, boil down to nationalistic pride and xenophobia more so than religious differences; e.g. the Persians allowing Jerusalem to be a site of worship for all peaceful peoples.  The real cancer on the Earth today is still the Vatican, which is itself pagan and by no means perfect (crusades, persecutions, papal bullying of nations including England and Germany by Romes legions, grand inquisition, etc.).  Will there ever be an African Pope?  Ha, not bloody likely.  Let's be real people, the world is determined and judged not by titles or teams (though commendment and numbers do help a cause) but by physical looks and similarities to our own ideals and preferences.  Main Point: Cut the nonsense, this world of ours is a cyclic sphere of national aspirations and individual coruption when faced with far-reaching decisions.  Result: we judge not by content of character or work ethic but by ideals.Problem 3: Religious difference as excuse for Racial decimation.  The Vatican, Mel's favorite big brother, that old institution in Rome once hellbent on ruling the world (how dare these thugs in robes who do little work...Karol Wojytola or John Paul II as an exception...and do absolutely nothing for science or human alleviation but would rather tell women how to live and enjoy old religious ceremonies tell whole nations and unique peoples such as Russia and China how to live) has been shown in the last few years (child molestation and financial fraudulence) to be highly corrupt and hypocritical.  How can Rome try to invade England and ruin Germany and deploy Spanish troops to Ireland hundreds of years ago, leaving death and destruction in their wake (Mel should have thought harder when making Braveheart, but being chauvanistic as he is, he forgot how the Scottish painted their faces blue and fought off Catholic Roman and Spanish troops trying to invande and take over the British Isles, not fight the English who have been a model nation to the world in regards to civilty and scientific thought...Newton ring a bell anyone?).  Main Point: for a nonspiritual demagoguery such as the Vatican to escape unscathed for what they've done to so many nations who were gentle and intellgent and progressive all until Catholic dogma invaded, they've really dodged quite a few bullets.  However, their time is running out.  Result: a world growing increasingly tired of relgious teachings as their ever evolving senses tell them of its use as a pretext for conquests and plundering.Problem 4: As the brilliant Harvard professor Samuel Huntington has portrayed in his books on clashes of cultures and remaking world order, the world is by no means stable.  Not even after civil wars, revolutions, world wars, coups....none have secured the longlasting peace so hoped for by many, but not all (e.g. thugs, gangs, criminals, dictators - the less intelligent real-life monsters of past and present).  The world of tommrrow is not one of religion (even south america is growing apart thanks to hugo chavez's finger pointing at america) but one of national identity...ironically, that has always been the case.  Main Point: integration and segregation continue to pull at eachother, fracturing America more than ever before.  The unrealistic thoughts of everyone \"liking\" each other and just \"getting along\" are over, and have never been much more than false words for false security.  Result: An America and Western world that wakes up to the threats from the east, a new China that could be peaceful partner or worst nightmare, and countries forced to take extreme measures due to unwanted influences (i.e. muslims taking over London's streets, France becoming a barnyard bash that doesn't work, and China wanting to remain a cultural empire unhinged by capitalism.  The world will survive and grow as old ideas of how to do just such collapse across the globe.  Dogma fails while reason, service, and a new humanity to all neighbors, be they of any race, flourishes.  The Herculean Man-God ideal fades as people grow tired of God being white, black, asian, green, blue, etc.  The world matures, people relax spiritually, and scientific advance continues to do some good, some bad.  As John Lennon so poetically said, sometimes we all have to \"Let It Be.\"</td>\n",
       "      <td>2</td>\n",
       "      <td>Absolute Truths Abound!?</td>\n",
       "      <td>1117152000</td>\n",
       "      <td>2005-05-27</td>\n",
       "      <td>2005</td>\n",
       "      <td>5863</td>\n",
       "    </tr>\n",
       "    <tr>\n",
       "      <th>695</th>\n",
       "      <td>[8, 14]</td>\n",
       "      <td>I came at this film from a non-Christian perspective in that I think the events portrayed either never happened or were so distorted by those who wrote the Gospels that they beared no resemblance to history.  That meant I couldn't respond to the guilt trip Mel Gibson meant to put on everyone about how Jesus  suffered for everyone's sins, so I looked at it as just a movie. A very boring movie.First the good parts. I thought using the ancient languages worked very well as did the look of the film, which featured some good filter effects (the garden scenes) and a drab color palette that evoked the past more than a bright one would have. I also liked Maia Morgenstern's performance as Mary. She did an excellent job of portraying her mixed feelings of pride and pain. The sets of the city were good and there were some great landscape shots, especially from the mountains. I also thought the DTS soundtrack was very good.Those weren't enough to make this a good movie for me though. The beatings grew boring very quickly, which made the final half of the film very tedious for me. Mel Gibson mostly worked in caricatures, portraying the Roman soldiers as mindless brutes, the apostles as dim-witted cowards and the Jews as a rabid mob. James Caviezel did a good enough job playing an impossible role, but I didn't find someone covered in blood or woodenly quoting biblical passages particularly interesting. The scenes with the Satan character didn't work for me at all.There was also the problem that, if you weren't a Christian or familiar with the Christian mythology, this movie would have made no sense at all. I guess to Gibson this wasn't a problem, since he was making this film for a specific audience. That audience made him a lot of money, so I suppose the choices he took worked for his pocketbook. That does not make this a great movie though. (As far as the anti-Semitic question, I agree that this film qualified. The Jews suffered for centuries because of the \"Christ Killer\" label, and this movie echoed that belief. The Romans may have did the killing, but the Jews started the ball rolling, a fact Gibson hammered home repeatedly. Like father, like son.)</td>\n",
       "      <td>2</td>\n",
       "      <td>Tedious rendition of the Passion story.</td>\n",
       "      <td>1103587200</td>\n",
       "      <td>2004-12-21</td>\n",
       "      <td>2004</td>\n",
       "      <td>2177</td>\n",
       "    </tr>\n",
       "  </tbody>\n",
       "</table>\n",
       "</div>"
      ],
      "text/plain": [
       "        helpful  \\\n",
       "186  [13, 23]     \n",
       "405  [113, 119]   \n",
       "503  [15, 19]     \n",
       "576  [9, 28]      \n",
       "595  [1, 8]       \n",
       "614  [9, 52]      \n",
       "634  [9, 32]      \n",
       "639  [8, 20]      \n",
       "651  [7, 21]      \n",
       "695  [8, 14]      \n",
       "\n",
       "                                                                                                                                                                                                                                                                                                                                                                                                                                                                                                                                                                                                                                                                                                                                                                                                                                                                                                                                                                                                                                                                                                                                                                                                                                                                                                                                                                                                                                                                                                                                                                                                                                                                                                                                                                                                                                                                                                                                                                                                                                                                                                                                                                                                                                                                                                                                                                                                                                                                                                                                                                                                                                                                                                                                                                                                                                                                                                                                                                                                                                                                                                                                                                                                                                                                                                                                                                                                                                                                                                                                                                                                                                                                                                                                                                                                                                                                                                                                                                                                                                                                                                                                                                                                                                                                                                                                                                                                                                                                                                                                                                                                                                                                                                                                                                                                                                                                                                                                                                                                                                                                                                                                                                                                                                                                                                                                                                                                                                                                                                                                                                                                                                                                                                                                                                                                                                                                                                                                                                                                                                                                                                  reviewText  \\\n",
       "186  The acting was good, the story was correct, but naked backsides was not necessary.  Also the Potiphers wife did not need to be so very seductive of a naked Joseph. Not a Christian movie.  I felt that even though it was probably portrayed truthfully, Christans do not need to see so explicit a scene.  This should be rated PG 13 at least.                                                                                                                                                                                                                                                                                                                                                                                                                                                                                                                                                                                                                                                                                                                                                                                                                                                                                                                                                                                                                                                                                                                                                                                                                                                                                                                                                                                                                                                                                                                                                                                                                                                                                                                                                                                                                                                                                                                                                                                                                                                                                                                                                                                                                                                                                                                                                                                                                                                                                                                                                                                                                                                                                                                                                                                                                                                                                                                                                                                                                                                                                                                                                                                                                                                                                                                                                                                                                                                                                                                                                                                                                                                                                                                                                                                                                                                                                                                                                                                                                                                                                                                                                                                                                                                                                                                                                                                                                                                                                                                                                                                                                                                                                                                                                                                                                                                                                                                                                                                                                                                                                                                                                                                                                                                                                                                                                                                                                                                                                                                                                                                                                                                                                                                                                         \n",
       "405  The DVD transfer is pretty good but the scene with Yukon discovering peppermint has been cut.It seems pretty odd to sell a DVD as a restored classic only to leave out the main thing that was to be restored!                                                                                                                                                                                                                                                                                                                                                                                                                                                                                                                                                                                                                                                                                                                                                                                                                                                                                                                                                                                                                                                                                                                                                                                                                                                                                                                                                                                                                                                                                                                                                                                                                                                                                                                                                                                                                                                                                                                                                                                                                                                                                                                                                                                                                                                                                                                                                                                                                                                                                                                                                                                                                                                                                                                                                                                                                                                                                                                                                                                                                                                                                                                                                                                                                                                                                                                                                                                                                                                                                                                                                                                                                                                                                                                                                                                                                                                                                                                                                                                                                                                                                                                                                                                                                                                                                                                                                                                                                                                                                                                                                                                                                                                                                                                                                                                                                                                                                                                                                                                                                                                                                                                                                                                                                                                                                                                                                                                                                                                                                                                                                                                                                                                                                                                                                                                                                                                                                            \n",
       "503  ANOTHER American cultural icon from the 60's has beendeemed unacceptable by those who would prefer to seemalice where none exists.Not even Underdog can escape the slings and arrows ofthose with the same mentality as the book-burners of1930's Germany.Why do we allow such obvious Orwellian \"Newsspeak\" toedit our past? Come on... this IS a cartoon, for Pete'ssake, NOT some social/political statement.Nothing here needs to be edited or \"cleaned up\". Theseare simple \"good vs. evil\" stories with a happy ending,and should be offered in their entirety... music/songs,credits and all.And, if one is offended by ANY of this... then one mayexorcise one's freedom NOT to purchase such!Nuff' said...                                                                                                                                                                                                                                                                                                                                                                                                                                                                                                                                                                                                                                                                                                                                                                                                                                                                                                                                                                                                                                                                                                                                                                                                                                                                                                                                                                                                                                                                                                                                                                                                                                                                                                                                                                                                                                                                                                                                                                                                                                                                                                                                                                                                                                                                                                                                                                                                                                                                                                                                                                                                                                                                                                                                                                                                                                                                                                                                                                                                                                                                                                                                                                                                                                                                                                                                                                                                                                                                                                                                                                                                                                                                                                                                                                                                                                                                                                                                                                                                                                                                                                                                                                                                                                                                                                                                                                                                                                                                                                                                                                                                                                                                                                                                                                                                                                                                                                                                                                                                                                                                                                                                                                                                                                                                                                                                                                                       \n",
       "576  why would mel gibson make a movie that would promote alot of controversy? hmm, do you think maybe it might be because ALOT OF PEOPLE WOULD WANT TO SEE IT THEN? i cant believe mel made this movie in honor of god, because if he did then he would of at least made it about an interesting story with a good plot and character development...i agree with the guy who said there should be a sequel. but instead of making jesus a race car driver let him come back from heaven decked out in all sorts of crazy gun crap like rambo. \"Jesus is back, and he is pissed\", follow jesus as he goes back in time to save john conner from the evil robots, and then when thats done jesus will master the magic dragon and go save the elven maidens on mount gundor! we can make it a coming of age story about how jesus is still learning about emotional development or something stupid like that, and in the end can become a pirate and sail into the sunset with a eye patch and pegged leg, or we could just crucify him again, and make sure the nails stay in place                                                                                                                                                                                                                                                                                                                                                                                                                                                                                                                                                                                                                                                                                                                                                                                                                                                                                                                                                                                                                                                                                                                                                                                                                                                                                                                                                                                                                                                                                                                                                                                                                                                                                                                                                                                                                                                                                                                                                                                                                                                                                                                                                                                                                                                                                                                                                                                                                                                                                                                                                                                                                                                                                                                                                                                                                                                                                                                                                                                                                                                                                                                                                                                                                                                                                                                                                                                                                                                                                                                                                                                                                                                                                                                                                                                                                                                                                                                                                                                                                                                                                                                                                                                                                                                                                                                                                                                                                                                                                                                                                                                                                                                                                                                                                                                                                                                                                                                                                                                                                           \n",
       "595  Viewed: 5/14Rate: 15/14: The Passion of the Christ garnered a lot of attention in 2004, but I didn't get caught up in the hype or follow it for the slightest bit. Fast forward to ten years later, I was browsing through the library's shelf of movies that might strike my interest, and I saw The Passion of the Christ sitting there. So, I figured that I might give it a try. And I now wish that I never did and have regretted it. The thing with me, I don't watch movies made after the year of 2000 because almost everything I've seen thus far does not resemble good cinema in any shape, form, or manner. So, I gave up and declared that I'll only watch movies made before the end of the year 2000. There is a strong reason in my declaration, and The Passion of the Christ reaffirms my stance. The film brings out the worst of everything. It's the fake acting. It's the constant overt melodrama in everything that the characters do, feel, think, or speak. It's the free-all ultra-graphic torture. It's the unrealistic depiction of what a human being is capable of. It's the impossibility of physics. It's the unmerciful pacing that moves slow like molasses in January. It's the vapid storyline that seems to convey nothing of substance or significance. Truly, The Passion of the Christ is a waste of my time. By the way, I saw Braveheart and thought of it a terrific entertainment, and thenceforth, I was so annoyed by the many borrowed techniques from it into The Passion of the Christ. All in all, what I saw and felt is The Passion of the Torture on both sides: mine and the film's.                                                                                                                                                                                                                                                                                                                                                                                                                                                                                                                                                                                                                                                                                                                                                                                                                                                                                                                                                                                                                                                                                                                                                                                                                                                                                                                                                                                                                                                                                                                                                                                                                                                                                                                                                                                                                                                                                                                                                                                                                                                                                                                                                                                                                                                                                                                                                                                                                                                                                                                                                                                                                                                                                                                                                                                                                                                                                                                                                                                                                                                                                                                                                                                                                                                                                                                                                                                                                                                                                                                                                                                                                                                                                                                                                                                                                                                                                                                                                                                                                                                                                                                                                                                                                                                                                                                                                                                                                                                             \n",
       "614  The movie itself is beautifully filmed. The acting is quite good and as a history freak I found it interesting to hear Latin and Aramaic. I did not find it anti-semitic, but then I can understand why Jewish folk might be suspicious, given the beliefs espoused by Gibsons' family, and never actually disavowed by Gibson himself.I am not a Christian, so it struck me as odd that Christians would like this film from a theological standpoint. Perhaps I am just not getting it. I always understood that the most central point of the Jesus story was that he arose from the dead, not that he was tortured to death. So it suprises me that the film would concentrate almost entirely on this one aspect of the story, rather than on the resurrection part. That it does not, smacks of violence-as-a-marketing-tool to me. When all the hoopla has died down, it will be interesting to see how much money Gibson will have made off of the suffering of his savior.I have to say that I am more than a little shocked at the fawning tone I have seen in these reviews, particularly from Christians. The enthusiastic way in which they are taking joy in watching someone being slowly tortured to death is sickening; and exactly the same sort of bloodthirsty eagerness that the ancient Romans displayed when they watched animals and people (including Christians) being executed in the arena. The fact that there is a religious purpose to the film does not excuse this. I wonder if this movie were made with the exact same types of scenes, but without the religious content, how many of reviewers would still sing its praises. I guess Jesus' message has not really changed the human heart, eh? Shame on all of you.If you don't think about the movie's religious implcations and view it as a horror flick in period costume, the movie comes off just fine. However I suspect that this was not Gibson's intent.Not being a slasher movie fan, I probably won't see this movie again. Or even bother renting it, much less buying it. But if you are a modern day Savonarola, and believe that pain and suffering is the most important aspect of your religion, you will get off on this film.                                                                                                                                                                                                                                                                                                                                                                                                                                                                                                                                                                                                                                                                                                                                                                                                                                                                                                                                                                                                                                                                                                                                                                                                                                                                                                                                                                                                                                                                                                                                                                                                                                                                                                                                                                                                                                                                                                                                                                                                                                                                                                                                                                                                                                                                                                                                                                                                                                                                                                                                                                                                                                                                                                                                                                                                                                                                                                                                                                                                                                                                                                                                                                                                                                                                                                                                                                                                                                                                                                                                                                                                                                                                                                                                                                                                                                                                   \n",
       "634  While the film was shot beautifully and the acting was fantastic, it did not help to overcome the hollow feeling this film left. Yes the violence was extreme, but in this regard it did more to hinder the emotion that was trying to be conveyed. There comes a point when it is TOO much. We, the audience, become desensitized and detached from what the filmmaker is trying to get across. In other words, the point is gotten across so much that we feel hit over the head with it. Whether you believe this stuff really happened or not (personally I do not), speaking from a film-only critique, it did more damage than good. And does anyone else find it a bit sad how they sell nails from the movie as necklace charms? Ugh! I'm sure if there is a Jesus, he wouldn't be so happy at a blatant grab for cash as opposed to helping a fellow man in need.                                                                                                                                                                                                                                                                                                                                                                                                                                                                                                                                                                                                                                                                                                                                                                                                                                                                                                                                                                                                                                                                                                                                                                                                                                                                                                                                                                                                                                                                                                                                                                                                                                                                                                                                                                                                                                                                                                                                                                                                                                                                                                                                                                                                                                                                                                                                                                                                                                                                                                                                                                                                                                                                                                                                                                                                                                                                                                                                                                                                                                                                                                                                                                                                                                                                                                                                                                                                                                                                                                                                                                                                                                                                                                                                                                                                                                                                                                                                                                                                                                                                                                                                                                                                                                                                                                                                                                                                                                                                                                                                                                                                                                                                                                                                                                                                                                                                                                                                                                                                                                                                                                                                                                                                                                \n",
       "639  I finally saw this film after everyone has said all that can be said about it, so I'll be brief. Expecting the absolute worst from Mr. Mel \"Sadist\" Gibson, I have to say that this film is nowhere near as good as its idolatrous fan base would have you believe, but neither is it as repellent as its detractors claim. In short, it's just a movie, not a particularly good one, with absolutely no emotional content and nothing in it to either explain what's happening or to make you care. It looks terrific---Mel obviously has cash to spare for his film-director-as-God craziness. But that's about where the praise ends. The whole thing has a nasty tone; in Mel's version of the tale, anyone who had anything to do with Jesus suffers nothing but misery, and while I'm not a believer myself, my guess is that's not the moral of the story as Jesus would tell it. And when Jesus marches out of the tomb at the end, eyes a-blazin' and military music blasting away on the soundtrack, I forgot for a second whether I was watching a film about Jesus or whether I had accidentally stumbled on to \"Braveheart Part II.\" Mel Gibson is a wretched director, and the worst thing anyone can do with wretched directors is to take their work too seriously, for that gives them clout they don't deserve. All he's done here is turn a Biblical story into a horror movie, complete with creepy Satan babies and more shredded flesh than is on display in the entire \"Friday the 13th\" series. This stuff was camp 30 years ago, and it's just sad to see Gibson resorting to schlock effects in an attempt to make up for his movie's complete lack of narrative grounding. See this or don't see this, whichever is your preference. But religious or not, this film is not going to change your life. If it does, then you need to get a different one.Grade: D+                                                                                                                                                                                                                                                                                                                                                                                                                                                                                                                                                                                                                                                                                                                                                                                                                                                                                                                                                                                                                                                                                                                                                                                                                                                                                                                                                                                                                                                                                                                                                                                                                                                                                                                                                                                                                                                                                                                                                                                                                                                                                                                                                                                                                                                                                                                                                                                                                                                                                                                                                                                                                                                                                                                                                                                                                                                                                                                                                                                                                                                                                                                                                                                                                                                                                                                                                                                                                                                                                                                                                                                                                                                                                                                                                                                                                                                                                                                                                                                                                                                                                                                                                                                                              \n",
       "651  Problem 1: People who take on side immediately, only because they want to feel connected to the \"mass\" pop-culture audience.  This is no mystery or suprise; be it sports, fashion, cars, vacation spots, etc., people desire connection to larger things mostly out of dissapointment from their own failures, losses, and frustrations.  Gibson did not just pander to the religious-right bible thumping deep south fanatics, but what he really was after was placing blame square on someone's shoulders: seeing that Morgenstern's father had to beg Mel to cut out the blood be on your children part, it's pretty straightforward as to where he comes from and who he wishes to demonize.  Furthermore, Gibson is staunchly Roman Catholic, demanding that people follow him and keep prayers in the Latin tongue...umm, alright Mel, frankly that whole side to you is lame and passe; it's like saying to someone \"Hey, do these prayers my way or the highway!\"  Mel really looked to place blame and rekindle old doubts and frictions between the Vatican and the Middle East; perhaps he had is way in that respect.  Main Point: Mel loves his Vatican and old religious practices and tried to turn the good Christians in America toward the side of the Vatican.  Result: very bad move.Problem 2: Religion or Race?  What is really more important and deeply engrained in the minds of most peoples?  Do you cast greater prejudice on grounds of physical features or religious affiliations?: Answer, race motivates on a deeper, actually realistic level as compared to phony religious claimings.  All of the worlds struggles, great conflicts, boil down to nationalistic pride and xenophobia more so than religious differences; e.g. the Persians allowing Jerusalem to be a site of worship for all peaceful peoples.  The real cancer on the Earth today is still the Vatican, which is itself pagan and by no means perfect (crusades, persecutions, papal bullying of nations including England and Germany by Romes legions, grand inquisition, etc.).  Will there ever be an African Pope?  Ha, not bloody likely.  Let's be real people, the world is determined and judged not by titles or teams (though commendment and numbers do help a cause) but by physical looks and similarities to our own ideals and preferences.  Main Point: Cut the nonsense, this world of ours is a cyclic sphere of national aspirations and individual coruption when faced with far-reaching decisions.  Result: we judge not by content of character or work ethic but by ideals.Problem 3: Religious difference as excuse for Racial decimation.  The Vatican, Mel's favorite big brother, that old institution in Rome once hellbent on ruling the world (how dare these thugs in robes who do little work...Karol Wojytola or John Paul II as an exception...and do absolutely nothing for science or human alleviation but would rather tell women how to live and enjoy old religious ceremonies tell whole nations and unique peoples such as Russia and China how to live) has been shown in the last few years (child molestation and financial fraudulence) to be highly corrupt and hypocritical.  How can Rome try to invade England and ruin Germany and deploy Spanish troops to Ireland hundreds of years ago, leaving death and destruction in their wake (Mel should have thought harder when making Braveheart, but being chauvanistic as he is, he forgot how the Scottish painted their faces blue and fought off Catholic Roman and Spanish troops trying to invande and take over the British Isles, not fight the English who have been a model nation to the world in regards to civilty and scientific thought...Newton ring a bell anyone?).  Main Point: for a nonspiritual demagoguery such as the Vatican to escape unscathed for what they've done to so many nations who were gentle and intellgent and progressive all until Catholic dogma invaded, they've really dodged quite a few bullets.  However, their time is running out.  Result: a world growing increasingly tired of relgious teachings as their ever evolving senses tell them of its use as a pretext for conquests and plundering.Problem 4: As the brilliant Harvard professor Samuel Huntington has portrayed in his books on clashes of cultures and remaking world order, the world is by no means stable.  Not even after civil wars, revolutions, world wars, coups....none have secured the longlasting peace so hoped for by many, but not all (e.g. thugs, gangs, criminals, dictators - the less intelligent real-life monsters of past and present).  The world of tommrrow is not one of religion (even south america is growing apart thanks to hugo chavez's finger pointing at america) but one of national identity...ironically, that has always been the case.  Main Point: integration and segregation continue to pull at eachother, fracturing America more than ever before.  The unrealistic thoughts of everyone \"liking\" each other and just \"getting along\" are over, and have never been much more than false words for false security.  Result: An America and Western world that wakes up to the threats from the east, a new China that could be peaceful partner or worst nightmare, and countries forced to take extreme measures due to unwanted influences (i.e. muslims taking over London's streets, France becoming a barnyard bash that doesn't work, and China wanting to remain a cultural empire unhinged by capitalism.  The world will survive and grow as old ideas of how to do just such collapse across the globe.  Dogma fails while reason, service, and a new humanity to all neighbors, be they of any race, flourishes.  The Herculean Man-God ideal fades as people grow tired of God being white, black, asian, green, blue, etc.  The world matures, people relax spiritually, and scientific advance continues to do some good, some bad.  As John Lennon so poetically said, sometimes we all have to \"Let It Be.\"   \n",
       "695  I came at this film from a non-Christian perspective in that I think the events portrayed either never happened or were so distorted by those who wrote the Gospels that they beared no resemblance to history.  That meant I couldn't respond to the guilt trip Mel Gibson meant to put on everyone about how Jesus  suffered for everyone's sins, so I looked at it as just a movie. A very boring movie.First the good parts. I thought using the ancient languages worked very well as did the look of the film, which featured some good filter effects (the garden scenes) and a drab color palette that evoked the past more than a bright one would have. I also liked Maia Morgenstern's performance as Mary. She did an excellent job of portraying her mixed feelings of pride and pain. The sets of the city were good and there were some great landscape shots, especially from the mountains. I also thought the DTS soundtrack was very good.Those weren't enough to make this a good movie for me though. The beatings grew boring very quickly, which made the final half of the film very tedious for me. Mel Gibson mostly worked in caricatures, portraying the Roman soldiers as mindless brutes, the apostles as dim-witted cowards and the Jews as a rabid mob. James Caviezel did a good enough job playing an impossible role, but I didn't find someone covered in blood or woodenly quoting biblical passages particularly interesting. The scenes with the Satan character didn't work for me at all.There was also the problem that, if you weren't a Christian or familiar with the Christian mythology, this movie would have made no sense at all. I guess to Gibson this wasn't a problem, since he was making this film for a specific audience. That audience made him a lot of money, so I suppose the choices he took worked for his pocketbook. That does not make this a great movie though. (As far as the anti-Semitic question, I agree that this film qualified. The Jews suffered for centuries because of the \"Christ Killer\" label, and this movie echoed that belief. The Romans may have did the killing, but the Jews started the ball rolling, a fact Gibson hammered home repeatedly. Like father, like son.)                                                                                                                                                                                                                                                                                                                                                                                                                                                                                                                                                                                                                                                                                                                                                                                                                                                                                                                                                                                                                                                                                                                                                                                                                                                                                                                                                                                                                                                                                                                                                                                                                                                                                                                                                                                                                                                                                                                                                                                                                                                                                                                                                                                                                                                                                                                                                                                                                                                                                                                                                                                                                                                                                                                                                                                                                                                                                                                                                                                                                                                                                                                                                                                                                                                                                                                                                                                                                                                                                                                                                                                                                                                                                                                                                                                                                                         \n",
       "\n",
       "     overall                                               summary  \\\n",
       "186  1        Nakedness not necessary!                               \n",
       "405  1        Rudy what have they done!                              \n",
       "503  2        The \"PC\" police strike AGAIN                           \n",
       "576  1        Great! for a movie made by a corporate whore jackass   \n",
       "595  1        A Ridiculous Waste of My Time.                         \n",
       "614  1        Hypocritical and blasphemous.                          \n",
       "634  2        Overrated Fairy Tale                                   \n",
       "639  2        The Horror of the Christ                               \n",
       "651  2        Absolute Truths Abound!?                               \n",
       "695  2        Tedious rendition of the Passion story.                \n",
       "\n",
       "     unixReviewTime   datetime  year  length  \n",
       "186  1298851200     2011-02-28  2011  337     \n",
       "405  1134259200     2005-12-11  2005  206     \n",
       "503  1137974400     2006-01-23  2006  691     \n",
       "576  1114300800     2005-04-24  2005  1039    \n",
       "595  1400284800     2014-05-17  2014  1581    \n",
       "614  1175385600     2007-04-01  2007  2151    \n",
       "634  1082332800     2004-04-19  2004  842     \n",
       "639  1114732800     2005-04-29  2005  1820    \n",
       "651  1117152000     2005-05-27  2005  5863    \n",
       "695  1103587200     2004-12-21  2004  2177    "
      ]
     },
     "execution_count": 12,
     "metadata": {},
     "output_type": "execute_result"
    }
   ],
   "source": [
    "pd.set_option('display.max_colwidth', -1)\n",
    "negative_reviews[negative_reviews['reviewText'].str.contains(\"good\")].head(10)"
   ]
  },
  {
   "cell_type": "markdown",
   "metadata": {},
   "source": [
    "  The word good appears a lot as comparison or to show the good points of a movie before speaking why its bad, maybe we could see what comes after or before 'good'"
   ]
  },
  {
   "cell_type": "markdown",
   "metadata": {
    "tags": [
     "45_min"
    ]
   },
   "source": [
    "### Exercise 4:\n",
    "\n",
    "Go through the list of bad reviews containing the word \"good\" that we found in the last question. For each review, extract the following:\n",
    "\n",
    "1. The first word after \"good\"\n",
    "2. The first word after \"good\" that is a noun or cardinal\n",
    "3. The last word before \"good\" that is a noun or cardinal"
   ]
  },
  {
   "cell_type": "markdown",
   "metadata": {
    "tags": [
     "ans_st"
    ]
   },
   "source": [
    "**Answer.**"
   ]
  },
  {
   "cell_type": "code",
   "execution_count": 13,
   "metadata": {},
   "outputs": [
    {
     "name": "stderr",
     "output_type": "stream",
     "text": [
      "<ipython-input-13-aa64369c5232>:2: SettingWithCopyWarning: \n",
      "A value is trying to be set on a copy of a slice from a DataFrame.\n",
      "Try using .loc[row_indexer,col_indexer] = value instead\n",
      "\n",
      "See the caveats in the documentation: https://pandas.pydata.org/pandas-docs/stable/user_guide/indexing.html#returning-a-view-versus-a-copy\n",
      "  df_good['nextword']=\"\"\n"
     ]
    },
    {
     "data": {
      "text/plain": [
       "0      showing       \n",
       "1      but           \n",
       "3      in            \n",
       "6      if            \n",
       "8      Christmas     \n",
       "11     ThanksDale    \n",
       "14     as            \n",
       "17     movie         \n",
       "19     picture       \n",
       "22     until         \n",
       "33     and           \n",
       "38     None          \n",
       "60     in            \n",
       "66     contrast      \n",
       "68     one.          \n",
       "71     points        \n",
       "79     But           \n",
       "81     though--looked\n",
       "84     movie         \n",
       "85                   \n",
       "90     price.        \n",
       "96     too.          \n",
       "98     job           \n",
       "104    change        \n",
       "112    in            \n",
       "113    the           \n",
       "114    telling       \n",
       "117    regarding     \n",
       "124    It,           \n",
       "127                  \n",
       "128    as            \n",
       "129    -             \n",
       "133                  \n",
       "137    job           \n",
       "149    as            \n",
       "154    story         \n",
       "157    in            \n",
       "162    the           \n",
       "171    for           \n",
       "173    to            \n",
       "177    movie.        \n",
       "178    as            \n",
       "179    Bible         \n",
       "181    i             \n",
       "186    the           \n",
       "189    account       \n",
       "190    movie.        \n",
       "192    and           \n",
       "194    I             \n",
       "195    job           \n",
       "Name: nextword, dtype: object"
      ]
     },
     "execution_count": 13,
     "metadata": {},
     "output_type": "execute_result"
    }
   ],
   "source": [
    "df_good=movies_tv[movies_tv['reviewText'].str.contains(\"good\")]\n",
    "df_good['nextword']=\"\"\n",
    "for i in range(df_good.shape[0]):\n",
    "    words=df_good.iat[i,1].split(\" \")\n",
    "    index=[ i for i, word in enumerate(words) if 'good' in word ]\n",
    "    try:\n",
    "        df_good.iat[i,8]=words[index[0]+1]\n",
    "    except IndexError:\n",
    "        df_good.iat[i,8]='None'\n",
    "df_good.head(50)['nextword']"
   ]
  },
  {
   "cell_type": "markdown",
   "metadata": {
    "tags": [
     "30_min"
    ]
   },
   "source": [
    "### Exercise 5:\n",
    "\n",
    "We have seen that individual words are not always very informative. Look for the most informative bigrams and trigrams, in both positive and negative reviews. Show the most informative bigrams and trigrams and give a brief analysis of the n-grams you identified."
   ]
  },
  {
   "cell_type": "markdown",
   "metadata": {
    "tags": [
     "ans_st"
    ]
   },
   "source": [
    "**Answer.**"
   ]
  },
  {
   "cell_type": "code",
   "execution_count": 14,
   "metadata": {},
   "outputs": [
    {
     "name": "stdout",
     "output_type": "stream",
     "text": [
      "negative\n",
      "[(('i', 'would'), 104), (('i', 'think'), 87), (('movie', 'i'), 80), (('i', 'could'), 77), (('mel', 'gibson'), 74), (('i', 'know'), 74), (('the', 'passion'), 60), (('film', 'i'), 58), (('i', 'found'), 58), (('i', 'thought'), 57), (('i', 'ca'), 52), (('special', 'effects'), 52), (('this', 'movie'), 50), (('passion', 'christ'), 49), (('i', 'like'), 48), (('the', 'movie'), 43), (('jesus', 'christ'), 42), (('this', 'film'), 42), (('i', 'see'), 41), (('i', 'seen'), 41)]\n",
      "[(('the', 'passion', 'christ'), 26), (('i', 'ever', 'seen'), 23), (('i', 'would', 'recommend'), 14), (('i', 'wish', 'i'), 13), (('movies', 'i', 'ever'), 11), (('the', 'last', 'temptation'), 10), (('last', 'temptation', 'christ'), 10), (('passion', 'of', 'the'), 10), (('of', 'the', 'christ'), 10), (('the', 'passion', 'of'), 9), (('i', 'know', 'i'), 9), (('air', 'force', 'one'), 9), (('felt', 'like', 'i'), 7), (('i', 'say', 'i'), 7), (('wish', 'i', 'could'), 7), (('movie', 'i', 'ever'), 7), (('i', 'could', 'get'), 7), (('blu', 'ray', 'player'), 7), (('quot', 'starship', 'troopers'), 7), (('starship', 'troopers', 'quot'), 7)]\n",
      "positive\n",
      "[(('i', 'think'), 887), (('movie', 'i'), 731), (('i', 'would'), 715), (('this', 'movie'), 614), (('i', 'love'), 463), (('the', 'passion'), 457), (('i', 'seen'), 444), (('special', 'effects'), 438), (('one', 'best'), 434), (('mel', 'gibson'), 431), (('film', 'i'), 407), (('the', 'film'), 389), (('the', 'movie'), 388), (('i', 'saw'), 369), (('i', 'know'), 359), (('i', 'could'), 342), (('this', 'film'), 342), (('great', 'movie'), 334), (('i', 'really'), 329), (('i', 'found'), 315)]\n",
      "[(('the', 'passion', 'christ'), 187), (('air', 'force', 'one'), 180), (('i', 'ever', 'seen'), 163), (('i', 'highly', 'recommend'), 139), (('the', 'fifth', 'element'), 132), (('tommy', 'lee', 'jones'), 128), (('world', 'war', 'ii'), 104), (('i', 'would', 'recommend'), 103), (('first', 'time', 'i'), 101), (('stand', 'by', 'me'), 89), (('passion', 'of', 'the'), 80), (('of', 'the', 'christ'), 80), (('the', 'passion', 'of'), 74), (('i', 'first', 'saw'), 71), (('encounters', 'third', 'kind'), 70), (('i', 'glad', 'i'), 69), (('time', 'i', 'saw'), 63), (('one', 'favorite', 'movies'), 62), (('close', 'encounters', 'third'), 62), (('last', '12', 'hours'), 60)]\n"
     ]
    }
   ],
   "source": [
    "neg_bigrm = nltk.bigrams(w.lower() for w in negWords if w not in stopwords if w.isalnum())\n",
    "neg_trigrm = nltk.trigrams(w.lower() for w in negWords if w not in stopwords if w.isalnum())\n",
    "neg_bigrm_ExceptStopDist = nltk.FreqDist(neg_bigrm)\n",
    "neg_trigrm_ExceptStopDist = nltk.FreqDist(neg_trigrm)\n",
    "pos_bigrm = nltk.bigrams(w.lower() for w in posWords if w not in stopwords if w.isalnum())\n",
    "pos_trigrm = nltk.trigrams(w.lower() for w in posWords if w not in stopwords if w.isalnum())\n",
    "pos_bigrm_ExceptStopDist = nltk.FreqDist(pos_bigrm)\n",
    "pos_trigrm_ExceptStopDist = nltk.FreqDist(pos_trigrm)\n",
    "print('negative')\n",
    "print(neg_bigrm_ExceptStopDist.most_common(20))\n",
    "print(neg_trigrm_ExceptStopDist.most_common(20))\n",
    "print('positive')\n",
    "print(pos_bigrm_ExceptStopDist.most_common(20))\n",
    "print(pos_trigrm_ExceptStopDist.most_common(20))"
   ]
  },
  {
   "cell_type": "markdown",
   "metadata": {},
   "source": [
    "while using n-grams we have a better understanding about the review, n-grams like \"i recommend\", \"i woudl recommend\", \"i ever seen\", \" i like\", \"i felt\" appear both in possitive and negative reviews so we cant discriminate good and bad using them"
   ]
  },
  {
   "cell_type": "markdown",
   "metadata": {
    "tags": [
     "15_min"
    ]
   },
   "source": [
    "### Exercise 6:\n",
    "\n",
    "Throughout the above search for informative words, we have seen that unigrams are not enough, but important words (such as \"good\") are not always next to the informative words that they describe. Devise a method to extract these informative words. Provide a brief description of how you will extract the informative words."
   ]
  },
  {
   "cell_type": "markdown",
   "metadata": {
    "tags": [
     "ans_st"
    ]
   },
   "source": [
    "**Answer.**"
   ]
  },
  {
   "cell_type": "markdown",
   "metadata": {},
   "source": [
    "Searching for adjectives like 'good', 'nice', 'great', 'recommend' is not as good as it sounds, instead you could search for contrast words like 'but', 'contrast', 'instead' paired with those adjectives as they are usually together in negative reviews,where as in positive reviews they are alone.\n",
    "\n",
    "Example(neg):\n",
    "The acting was <font color='red'>good</font>, the story was correct, <font color='red'>but</font> naked backsides was not necessary. Also the Potiphers wife did not need to be so very seductive of a naked Joseph. Not a Christian movie. I felt that <font color='red'>even though</font> it was probably portrayed truthfully, Christans do not need to see so explicit a scene. This should be rated PG 13 at least.\n",
    "\n",
    "Example(pos):\n",
    "A <font color='red'>good</font> Christmas carol dhenry winkler one during the depression. Henry winkler does a <font color='red'>good</font> job.a classic film I <font color='red'>recommend</font> for all ages.\n"
   ]
  },
  {
   "cell_type": "markdown",
   "metadata": {
    "tags": [
     "30_min"
    ]
   },
   "source": [
    "### Exercise 7:\n",
    "\n",
    "Write a function(s) that transforms a sentence into a new text list by iteratively pairing each adjective in the sentence with the next noun that follows it in the sentence. For example, the text \"That was a good, long movie\" should return `[\"good movie\", \"long movie\"]`."
   ]
  },
  {
   "cell_type": "markdown",
   "metadata": {
    "tags": [
     "ans_st"
    ]
   },
   "source": [
    "**Answer.**"
   ]
  },
  {
   "cell_type": "code",
   "execution_count": 15,
   "metadata": {},
   "outputs": [
    {
     "name": "stderr",
     "output_type": "stream",
     "text": [
      "[nltk_data] Downloading package averaged_perceptron_tagger to\n",
      "[nltk_data]     /home/jovyan/nltk_data...\n",
      "[nltk_data]   Package averaged_perceptron_tagger is already up-to-\n",
      "[nltk_data]       date!\n"
     ]
    },
    {
     "name": "stdout",
     "output_type": "stream",
     "text": [
      "['good movie', 'long movie']\n"
     ]
    }
   ],
   "source": [
    "nltk.download('averaged_perceptron_tagger')\n",
    "lines = 'That was a good, long movie'\n",
    "def transform(line):\n",
    "    tokenized = nltk.word_tokenize(lines)\n",
    "    is_noun = lambda noun: noun[:2] == 'NN'\n",
    "    is_adj = lambda adj: adj[:2] == 'JJ'\n",
    "    nouns = [word for (word, noun) in nltk.pos_tag(tokenized) if is_noun(noun)] \n",
    "    adjs = [word for (word, adj) in nltk.pos_tag(tokenized) if is_adj(adj)]  \n",
    "    result=list()\n",
    "    for adj in adjs:\n",
    "        index=line.index(adj)\n",
    "        for noun in nouns:\n",
    "            if line.index(noun)>index:\n",
    "                result.append(adj+\" \"+noun)\n",
    "    return result\n",
    "print(transform(lines))"
   ]
  },
  {
   "cell_type": "code",
   "execution_count": null,
   "metadata": {},
   "outputs": [],
   "source": []
  }
 ],
 "metadata": {
  "c1_recart": "6.10.0-57c20131aabc1dc2a8c675852d80a7da",
  "kernelspec": {
   "display_name": "Python 3",
   "language": "python",
   "name": "python3"
  },
  "language_info": {
   "codemirror_mode": {
    "name": "ipython",
    "version": 3
   },
   "file_extension": ".py",
   "mimetype": "text/x-python",
   "name": "python",
   "nbconvert_exporter": "python",
   "pygments_lexer": "ipython3",
   "version": "3.6.13"
  },
  "varInspector": {
   "cols": {
    "lenName": 16,
    "lenType": 16,
    "lenVar": 40
   },
   "kernels_config": {
    "python": {
     "delete_cmd_postfix": "",
     "delete_cmd_prefix": "del ",
     "library": "var_list.py",
     "varRefreshCmd": "print(var_dic_list())"
    },
    "r": {
     "delete_cmd_postfix": ") ",
     "delete_cmd_prefix": "rm(",
     "library": "var_list.r",
     "varRefreshCmd": "cat(var_dic_list()) "
    }
   },
   "types_to_exclude": [
    "module",
    "function",
    "builtin_function_or_method",
    "instance",
    "_Feature"
   ],
   "window_display": false
  }
 },
 "nbformat": 4,
 "nbformat_minor": 2
}
